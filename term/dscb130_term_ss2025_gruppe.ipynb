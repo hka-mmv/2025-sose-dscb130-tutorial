{
 "cells": [
  {
   "cell_type": "markdown",
   "metadata": {},
   "source": [
    "# DSCB130 Hausarbeit SS2025\n",
    "---\n",
    "Gruppenkürzel:\n",
    "| Name | Vorname | RZ-Kuerzel | Matr.Nr |\n",
    "|------|---------|------------|---------|\n",
    "|      |         |            |         |\n",
    "|      |         |            |         |\n",
    "|      |         |            |         |"
   ]
  },
  {
   "cell_type": "markdown",
   "metadata": {},
   "source": [
    "# Motivation\n",
    "In den kommenden Semestern werden komplexe Berechnungen und Datenanalysen in nahezu allen Fachgebieten immer wichtiger werden. Grundbaustein dieser Analysen sind fundierte mathematische Kenntnisse und Programmierfertigkeiten. In diesem Projekt entwickeln die Studierenden in kleinen Teams einen vielseitigen grafischen (GUI) Taschenrechner in Python, mit dem Sie zentrale Aspekte der Mathematik - von einfachen Grundrechenarten bis hin zu komplexen Operationen - selbstständig implementieren.  \n",
    "Das Projekt ist in mehrere Aufgabenblöcke unterteilt, für deren erfolgreiche Lösung Sie jeweils Klausurbonus-Punkte erhalten. Zum Ende des Semesters werden die erarbeiteten Inhalte präsentiert.  \n",
    "Da die Verwendung von LLM/KI-Modellen (z.B. CoPilot oder Chat-GPT) erwartbar ist, sind die Aufgaben höher angelegt als üblich. Die Verwendung ist erlaubt, sowie erwünscht.\n",
    "## Rahmenbedingungen\n",
    "- Teamarbeit (2-3 Personen), keine Einzelabgaben ([Gruppeneinteilung](https://bwsyncandshare.kit.edu/s/FLBjPziD4C76Zit))\n",
    "- Programmierung in Python (3.7 oder neuer)\n",
    "- GUI Programmierung unter tkinter \n",
    "- Keine Verwendung von Solver-/Math-Bibliotheken (sympy, numpy), nur Verwendung der Standardbibliothek (math und cmath) für Basisfunktionen\n",
    "- Dokumentation (Programmaufbau)\n",
    "\n",
    "## Abgabezeitraum\n",
    "- Abgabe über Ilias von einem Gruppenmitglied\n",
    "- Abgabe bis spätestens: 16.06.2025, 13:00 Uhr\n",
    "\n",
    "\n",
    "## Bewertungskriterien\n",
    "- Architektur (z.B. Trennbarkeit, Erweiterbarkeit, Codequalität)\n",
    "- Teamarbeit (Austausch, Abstimmung im Team)\n",
    "- Präsentation\n",
    "\n",
    "### Präsentation\n",
    "Es wird aktiv im Code-Editor der Wahl präsentiert. Eine separate Präsentation, z.B. über MS PowerPoint wird nicht benötigt.  \n",
    "Für Grafiken/Schaubilder wird [Diagrams](https://app.diagrams.net/) empfohen.  \n",
    "Dokumentation des Programmaufbaus findet im Code selbst statt."
   ]
  },
  {
   "cell_type": "markdown",
   "metadata": {},
   "source": [
    "# Punkteverteilung\n",
    "| Aufgabe | Punkte |\n",
    "|---------|--------|\n",
    "| 1       | 4      |\n",
    "| 2       | 2      |\n",
    "| 3       | 3      |\n",
    "| 4       | 5      |\n",
    "| 5       | 2      |\n",
    "| 6       | 2      |\n",
    "| Gesamt  | 18      |"
   ]
  },
  {
   "cell_type": "markdown",
   "metadata": {},
   "source": [
    "# Aufgabe 1 - Grundrechenarten und GUI-Struktur\n",
    "1. GUI-Basics in tkinter:  \n",
    "Erstellen eines Hauptfensters mit Python und tkinter (z. B. Tk()-Objekt erstellen). Layout definieren: z. B. Eingabezeile (Entry-Widget) oben, Tastenfeld mit Buttons darunter.\n",
    "2. Implementierung der Grundrechenarten:  \n",
    "Addition, Subtraktion, Multiplikation, Division über entsprechende Buttons. Programmierung erster Funktionen zur Berechnung (z. B. „+“, „-“, „×“, „÷“).\n",
    "3. Interaktion mit dem Eingabefeld:  \n",
    "Eingabe von Zahlen (z. B. durch direkte Tastatureingabe oder Klick auf die entsprechenden Ziffern-Buttons). Anzeige der eingegebenen Zahlen bzw. Rechenergebnisse im GUI.\n",
    "4. Einfache Fehlerbehandlung:  \n",
    "Umgang mit ungültigen Eingaben (z. B. leeres Feld bei Division). Anzeigen einer Fehlermeldung oder Rücksetzen der Eingabe.\n",
    "\n",
    "## Erwartete Ergebnisse\n",
    "- Ein funktionsfähiges Hauptfenster mit eingebauten Buttons für 0–9 und die Grundrechenarten\n",
    "- Berechnungen über die GUI sind fehlerfrei möglich\n",
    "- Strukturierter, kommentierter Code als Ausgangspunkt für die nächsten Aufgaben\n",
    "\n",
    "## Hinweise und Ressourcen\n",
    "- [Python Tkinter Dokumentation](https://docs.python.org/3/library/tkinter.html) für detaillierte Informationen zu Widgets und Layout-Methoden"
   ]
  },
  {
   "cell_type": "markdown",
   "metadata": {},
   "source": [
    "# Aufgabe 2 - Variablen und Konstanten Speicher\n",
    "1. Erweiterung der Grundrechenarten mit selbstdefinierbaren Variablen:  \n",
    "Möglichkeit der Variablenspeicherung und des Variablenaufrufs. Speicher muss nicht persistent sein (beim schließen des Taschenrechners können Variablen gelöscht werden). Variablen müssen in Rechenoperationen verwendbar sein.\n",
    "2. Erweiterung des Eingabefeldes um eine Variablenfunktion:  \n",
    "Variablen müssen über das grafische Interface abrufbar/einsehbar sein.\n",
    "3. Erweiterung um Konstanten:  \n",
    "Übliche Konstanten (z.B. g (Gravitationskonstante), c (Vakuumlichtgeschwindikeit), e (Elementarladung), k (Boltzmann), weitere beliebige Konstanten). Konstanten sollen persistent sein und über eine externe JSON Datei in den Taschenrechner ladbar sein. Eine Vorgegebene JSON Konstanten Datei ist im GitHub Repository zu finden (constants.json).\n",
    "4. Erweiterung des Eingabefeldes um eine Konstantenfunktion:  \n",
    "Konstanten müssen über das grafische Interface abrufbar/einsehbar sein.\n",
    "## Erwartete Ergebnisse\n",
    "- Funktionsfähige Variablenspeicherung und Aufruf in Rechnungen\n",
    "- Verwendung von Konstanten\n",
    "## Hinweise und Ressourcen\n",
    "- [Wikipedia](https://de.wikipedia.org/wiki/Physikalische_Konstante#Fundamentale_Konstanten) zu physischen Konstanten\n",
    "- [Wikipedia](https://de.wikipedia.org/wiki/Mathematische_Konstante) zu mathematischen Konstanten\n",
    "- [Springer Mathematik](https://link.springer.com/book/10.1007/978-3-662-64389-1) (Empfohlene Literatur über Mathematik)"
   ]
  },
  {
   "cell_type": "markdown",
   "metadata": {},
   "source": [
    "# Aufgabe 3 - Erweiterte mathematische Funktionen\n",
    "1. Neue Funktionen in der Rechenlogik:  \n",
    "Trigonometrische Funktionen (z.B. sin, arccos), Exponential- und Logarithmusfunktionen z.B.(e, ln(x), log10(x)), sowie Wurzeln (sqrt, und beliebige Wurzeln), Einführung von PI (begrenzt auf 3.14159)\n",
    "2. Fehler-/Domänenbehandlung:  \n",
    "Abfangen von fehlerhaften Eingaben (z.B. sqrt(-1) im Reellen Kontext oder ln(0)), in Form von Klartextmeldungen (z.B. Pop-Up Fenster: „Eingabefehler: Logarithmus ist nicht definiert bei x ≤ 0“) \n",
    "3. Zusätzliche Buttons oder Menüs für die mathematischen Funktionen:  \n",
    "Sinnvolle Layoutanpassungen (z.B. ein separates Panel für erweiterte Funktionen). Sicherstellung einer übersichtlichen Ergebnissdarstellung (z.B. Rundung)\n",
    "\n",
    "## Erwartete Ergebnisse\n",
    "- Funktionsfähiges erweitertes Rechnen\n",
    "- Fehlerabfang um einen Programmabsturz zu verhindern\n",
    "- Neue Layouterweiterung\n",
    "\n",
    "## Hinweise und Ressourcen\n",
    "- [Python Math](https://docs.python.org/3/library/math.html) für trigonometrische Berechnungen"
   ]
  },
  {
   "cell_type": "markdown",
   "metadata": {},
   "source": [
    "# Aufgabe 4 - Komplexe Zahlen und Matrizen\n",
    "1. Komplexe Zahlen:  \n",
    "- Implementierung eines Datenmodells für komplexe Zahlen ([Built-In](https://docs.python.org/3/c-api/complex.html))\n",
    "- Erweiterung der Rechenfunktionen auf komplexe Zahlen\n",
    "- Betrags und Konjugationsfunktionen\n",
    "- Anpassung der GUI-Eingabe (z.B. separate Eingabefelder für Re/Im Teil)\n",
    "- KEINE Domänensprünge (Falls z.B. sqrt(-1) im Realen Modus eingegeben wird, muss nicht automatisch in den Komplexen Raum gewechselt werden, es kann ein Fehler ausgeworfen werden; Nur im Komplexen Modus werden Komplexe Zahlen berechnet)\n",
    "2. Grundlegende Matrixoperationen\n",
    "- Implementierung einer Datenstruktur für Matrizen (z.B. als Listen), KEINE komplexen Matrizen\n",
    "- Matrix-Addition, -Subtraktion und -Multiplikation (inkl. Fehlermeldungen bei falschen Dimensionen)\n",
    "- Determinante und Inverse Matrix berechnen \n",
    "3. Erweiterung der Grafischen Oberfläche um Matrizeneingaben\n",
    "- Zusätzliches Menü für Matrizenoperationen\n",
    "\n",
    "## Erwartete Ergebnisse\n",
    "- Der Taschenrechner unterstützt nun Komplexe Zahlen (mindestens Grundrechenarten).\n",
    "- Matrizen-Operationen (Addition, Subtraktion, Multiplikation) sind implementiert.\n",
    "- Ggf. erste erweiterte Funktionen wie Determinanten- oder Inversen-Berechnung vorhanden.\n",
    "- Saubere GUI-Integration für die neuen Funktionen.\n",
    "\n",
    "## Hinweise und Ressourcen\n",
    "- [GFG-Complex Guide](https://www.geeksforgeeks.org/complex-numbers-in-python-set-1-introduction/) als Einführung in Komplexe Zahlen mit cmath\n",
    "- [Programis Guide Matrices](https://www.programiz.com/python-programming/examples/multiply-matrix) als Einführung und Umsetzung zu Matrizen\n"
   ]
  },
  {
   "cell_type": "markdown",
   "metadata": {},
   "source": [
    "# Aufgabe 5 - Statistik Funktionen\n",
    "1. Eindimensionale Datensatzeingabe in Statistikmenü:\n",
    "- Neuer GUI Abschnitt um eine Zahlenfolge (z.B. [1,4,6,-1,8,5,-3,0]) als verwendbare Variable einzugeben und anzuzeigen (nichpermanenter Speicher)\n",
    "2. Grundlegende Statistik-Methoden:  \n",
    "Umsetzung folgender Methoden\n",
    "- Summation und Mittelwerte\n",
    "- Minimum, Maximum und Spannweite\n",
    "- Median inkl. Sortierfunktion\n",
    "3. Fehlerbehandlung:  \n",
    "- Sicherstellen, das mind. eine Zahl vorhanden ist, bevor, z.B. Mittelwert berechnet wird.\n",
    "- Umgang mit falschen Dateiformaten\n",
    "## Erwartete Ergebnisse\n",
    "- Funktionsfähige Eingabe von eindimensionalen Datensätzen\n",
    "- Einbau der grundlegenden Statistikfunktionen"
   ]
  },
  {
   "cell_type": "markdown",
   "metadata": {},
   "source": [
    "# Aufgabe 6 - Präsentation\n",
    "Abnahme des Programms durch eine Präsentation ALLER Gruppenmitglieder. Präsentation des Codes und Funktionsumfangs/GUI Designs.  \n",
    "Dauer: ca 20 Minuten inkl. Diskussion, bekanntgabe der Punkte per Ilias oder [hier](https://bwsyncandshare.kit.edu/s/FLBjPziD4C76Zit)"
   ]
  }
 ],
 "metadata": {
  "kernelspec": {
   "display_name": ".venv",
   "language": "python",
   "name": "python3"
  },
  "language_info": {
   "name": "python",
   "version": "3.13.2"
  }
 },
 "nbformat": 4,
 "nbformat_minor": 2
}
