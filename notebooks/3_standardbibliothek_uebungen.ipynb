{
 "cells": [
  {
   "cell_type": "markdown",
   "id": "7869124d-7915-403a-859d-25ed7f074fa1",
   "metadata": {},
   "source": [
    "# Übungen: Die Standardbibliothek\n",
    "Autor: Leon Gjinovci  "
   ]
  },
  {
   "cell_type": "markdown",
   "id": "f6bc3cb6-1c64-4a95-9ebf-d3117914443b",
   "metadata": {},
   "source": [
    "## Standardbibliothek - Übungen\n",
    "\n",
    "## Print\n",
    "### Aufgabe 1:\n",
    "Schreibe ein Programm, das den Benutzer nach seinem Namen und Alter fragt (input) und eine Begrüßungsnachricht ausgibt. Verwende dabei einen F-String, um den Namen und das Alter in die Ausgabe einzufügen. Beispiel: \"Hallo, Anna! Du bist 28 Jahre alt.\"\n",
    "\n",
    "## Len\n",
    "### Aufgabe 1:\n",
    "Erstelle eine Liste mit den Wochentagen (`[\"Montag\", \"Dienstag\", \"Mittwoch\", \"Donnerstag\", \"Freitag\", \"Samstag\", \"Sonntag\"]`). Schreibe ein Programm, das die Länge dieser Liste und die Länge jedes einzelnen Tagesnamens ausgibt.\n",
    "### Aufgabe 2:\n",
    "Schreibe ein Programm, das einen vom Benutzer eingegebenen Satz speichert und die Anzahl der Wörter im Satz berechnet. Verwende dazu die `split()`-Methode, um den Satz in eine Liste von Wörtern zu unterteilen, und `len()`, um die Anzahl der Wörter in der Liste zu ermitteln. Gib das Ergebnis aus.\n",
    "\n",
    "## Range\n",
    "### Aufgabe 1:\n",
    "Schreibe eine `for`-Schleife, die eine Zahlentabelle von 1 bis 10 erstellt. Weise den Werten von 1 bis 10 jeweils die zugehörigen Buchstaben aus dem Alphabet zu (dict). Verwende die `range()`-Funktion, um die Schleifen zu steuern.\n",
    "\n",
    "## Type\n",
    "### Aufgabe 1:\n",
    "Erstelle ein Programm, das den Benutzer nach einer Eingabe fragt und dann überprüft, ob die Eingabe eine Zahl ist. Verwende `type()` und/oder `isinstance()` für die Überprüfung und gib eine entsprechende Nachricht aus, z.B. \"Die Eingabe ist eine Zahl\" oder \"Die Eingabe ist keine Zahl\".\n",
    "\n",
    "## Sum\n",
    "### Aufgabe 1:\n",
    "Schreibe ein Programm, das den Benutzer nach einer Reihe von Zahlen fragt (verwende `input()` und `split()`, um eine Liste von Zahlen zu erhalten). Berechne die Summe dieser Zahlen und gib das Ergebnis aus.\n",
    "\n",
    "#### Beispiel:\n",
    "| >> Bitte geben Sie eine Zahl ein: ... <br>\n",
    "| << 5<br>\n",
    "| >> Bitte geben Sie eine Zahl ein: ...<br>\n",
    "| << 7<br>\n",
    "| >> Bitte geben Sie eine Zahl ein, geben Sie '0' ein um zu Berechnen: ...<br>\n",
    "| << 0<br>\n",
    "| >> Das Ergebnis der Eingaben ist: 12<br>\n",
    "\n",
    "## Min und Max\n",
    "### Aufgabe 1:\n",
    "Erstelle eine Liste mit mindestens fünf verschiedenen Zahlen. Schreibe ein Programm, das das kleinste und das größte Element in der Liste findet und ausgibt.\n",
    "\n",
    "## Sorted\n",
    "### Aufgabe 1:\n",
    "Definiere eine Liste von Wörtern (`[\"Banane\", \"Apfel\", \"Kirsche\", \"Dattel\"]`). Verwende `sorted()`, um diese Liste alphabetisch zu sortieren, und gib die sortierte Liste aus.\n",
    "\n",
    "### Aufgabe 2:\n",
    "Erstelle eine Liste von Wörterbüchern `personen = [{\"name\": \"Anna\", \"alter\": 25}, {\"name\": \"Max\", \"alter\": 30}, {\"name\": \"Lisa\", \"alter\": 20}]`. Verwende `sorted()`, um diese Liste nach dem Alter der Personen zu sortieren und gib die sortierte Liste aus.\n",
    "\n",
    "## Enumerate\n",
    "### Aufgabe 1:\n",
    "Erstelle eine Liste von mindestens drei Lieblingsfilmen. Schreibe ein Programm, das mithilfe von `enumerate()` jeden Film mit seiner Position in der Liste (beginnend bei 1) ausgibt.\n"
   ]
  }
 ],
 "metadata": {
  "kernelspec": {
   "display_name": "Python 3 (ipykernel)",
   "language": "python",
   "name": "python3"
  },
  "language_info": {
   "codemirror_mode": {
    "name": "ipython",
    "version": 3
   },
   "file_extension": ".py",
   "mimetype": "text/x-python",
   "name": "python",
   "nbconvert_exporter": "python",
   "pygments_lexer": "ipython3",
   "version": "3.12.2"
  }
 },
 "nbformat": 4,
 "nbformat_minor": 5
}
