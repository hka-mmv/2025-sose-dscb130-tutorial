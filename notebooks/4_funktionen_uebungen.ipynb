{
 "cells": [
  {
   "cell_type": "markdown",
   "id": "e40944aa-424d-412c-8b3b-5e8ca85c2c45",
   "metadata": {},
   "source": [
    "# Übungen: Funktionen\n",
    "Autor: Leon Gjinovci  \n",
    "### Aufgabe 1: Begrüßungsfunktion\n",
    "Erstelle eine Funktion `begruesse()`, die den Namen einer Person als Parameter akzeptiert und eine Begrüßung in der Form \"Hallo, [Name]!\" ausgibt. Rufe die Funktion mit dem Namen \"Anna\" und \"Max\" auf und gib die Ergebnisse aus.\n",
    "\n",
    "### Aufgabe 2: Quadratzahl berechnen\n",
    "Schreibe eine Funktion `quadrat(zahl)`, die eine Zahl als Parameter akzeptiert und das Quadrat dieser Zahl berechnet und zurückgibt. Rufe die Funktion mit den Werten `5` und `10` auf und gib die Ergebnisse aus. Modifiziere die Funktion danach, um einen beliebigen Benutzerinput aufzunehmen.\n",
    "\n",
    "### Aufgabe 3: Summe von Zahlen\n",
    "Erstelle eine Funktion `berechne_summe(zahlen)`, die eine Liste von Zahlen als Parameter akzeptiert und die Summe der Zahlen berechnet und zurückgibt. Teste die Funktion mit den Listen `[1, 2, 3, 4, 5]` und `[10, 20, 30]`.\n",
    "\n",
    "### Aufgabe 4: Umwandlung in Großbuchstaben\n",
    "Schreibe eine Funktion `in_grossbuchstaben(text)`, die einen String als Parameter akzeptiert und denselben Text in Großbuchstaben zurückgibt. Rufe die Funktion mit den Texten \"python\" und \"Funktionen sind wichtig\" auf.\n",
    "\n",
    "### Aufgabe 5: Maximale Zahl finden\n",
    "Erstelle eine Funktion `max_zahl(a, b, c)`, die drei Zahlen als Parameter akzeptiert und die größte der drei Zahlen zurückgibt. Teste die Funktion mit den Werten `7, 3, 9` und `5, 8, 2`.\n",
    "\n",
    "### Aufgabe 6: Umkehrung eines Strings\n",
    "Schreibe eine Funktion `umkehren(text)`, die einen String als Parameter akzeptiert und denselben String in umgekehrter Reihenfolge zurückgibt. Rufe die Funktion mit den Texten \"Hallo\" und \"Python\" auf.\n",
    "\n",
    "### Aufgabe 7: Anzahl der Vokale\n",
    "Erstelle eine Funktion `zaehle_vokale(text)`, die einen String als Parameter akzeptiert und die Anzahl der Vokale (a, e, i, o, u) im Text zählt und zurückgibt. Teste die Funktion mit den Texten \"Programmierung\" und \"Computer\".\n",
    "\n",
    "### Aufgabe 8: Durchschnitt berechnen\n",
    "Schreibe eine Funktion `durchschnitt(werte)`, die eine Liste von Zahlen als Parameter akzeptiert und den Durchschnitt der Zahlen berechnet und zurückgibt. Teste die Funktion mit den Listen `[5, 10, 15]` und `[2, 4, 6, 8]`.\n",
    "\n",
    "### Aufgabe 9: Wochentage ausgeben\n",
    "Erstelle eine Funktion `tage_der_woche()`, die keine Parameter akzeptiert und die Wochentage \"Montag\" bis \"Freitag\" jeweils auf einer neuen Zeile ausgibt. Rufe die Funktion auf und gib die Wochentage aus. Passe die Funktion danach so an, das basierend auf den Benutzereigaben von 1 bis 7 der jeweilige Wochentag ausgegeben wird. Baue so, das sich die Eingabe in einem `while: True` befindet und nicht nach jeder Eingabe neu gestartet werden muss.\n",
    "\n",
    "### Aufgabe 10: FizzBuzz-Funktion\n",
    "Schreibe eine Funktion `fizzbuzz(n)`, die eine Zahl `n` als Parameter akzeptiert und für jede Zahl von 1 bis `n` die Zahl selbst, \"Fizz\" (wenn die Zahl durch 3 teilbar ist), \"Buzz\" (wenn die Zahl durch 5 teilbar ist) oder \"FizzBuzz\" (wenn die Zahl sowohl durch 3 als auch durch 5 teilbar ist) ausgibt. Teste die Funktion mit dem Wert `15`, danach mit einem Eingabewert. Füge ein passendes Limit ein um zu lange Berechnungen zu vermeiden.\n"
   ]
  }
 ],
 "metadata": {
  "kernelspec": {
   "display_name": "Python 3 (ipykernel)",
   "language": "python",
   "name": "python3"
  },
  "language_info": {
   "codemirror_mode": {
    "name": "ipython",
    "version": 3
   },
   "file_extension": ".py",
   "mimetype": "text/x-python",
   "name": "python",
   "nbconvert_exporter": "python",
   "pygments_lexer": "ipython3",
   "version": "3.12.2"
  }
 },
 "nbformat": 4,
 "nbformat_minor": 5
}
