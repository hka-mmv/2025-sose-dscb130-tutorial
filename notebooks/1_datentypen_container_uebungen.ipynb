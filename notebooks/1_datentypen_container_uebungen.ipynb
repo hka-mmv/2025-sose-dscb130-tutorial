{
 "cells": [
  {
   "cell_type": "markdown",
   "id": "5acffb9a-9151-4ac8-b82b-5e611c299612",
   "metadata": {},
   "source": [
    "# Übungen: Datentypen und Container\n",
    "Autor: Leon Gjinovci  "
   ]
  },
  {
   "cell_type": "markdown",
   "id": "3c9a0fe4-c1d1-43b6-a9cc-0ef7d200dcb9",
   "metadata": {},
   "source": [
    "## Zahlen\n",
    "### Aufgabe 1:\n",
    "Definiere zwei Variablen, mit den Werten `15` und `4`. Berechne und gib über die `print()`-Funktion die Ergebnisse für Addition, Subtraktion, Multiplikation, Division, ganzzahlige Division, Modulo und Exponentation aus.\n",
    "\n",
    "### Aufgabe 2:\n",
    "Definiere einen mathematischen Ausdruck `x = 5 + 2 * 3`. Berechne den Wert von `x`. Erkläre warum die Berechnung so erfolgt, was wären andere mögliche Ergebnisse?\n",
    "\n",
    "### Aufgabe 3:\n",
    "Berechne `2` hoch `10` und den Rest, wenn `100` durch `9` geteilt wird. Was sind die Ergebnisse?\n",
    "\n",
    "### Aufgabe 4:\n",
    "Schreibe ein Programm, das einen Betrag in Euro in einen Betrag in Dollar umrechnet. Verwende einen festen Wechselkurs und gib das Ergebnis als Gleitkommazahl aus."
   ]
  },
  {
   "cell_type": "markdown",
   "id": "3225aaa8-9bda-434d-8bd2-b878dc23054e",
   "metadata": {},
   "source": [
    "## Strings\n",
    "### Aufgabe 1:\n",
    "Definiere zwei Strings `vorname = \"Anna\"` und `nachname = \"Müller\"`. Erstelle einen neuen String `voller_name`, der aus dem Vor- und Nachnamen mit einem Leerzeichen dazwischen besteht, und gib ihn aus.\n",
    "\n",
    "### Aufgabe 2:\n",
    "Definiere einen String `wort = \"Python\"`. Verwende den Multiplikationsoperator, um den String dreimal zu wiederholen, und gib das Ergebnis aus.\n",
    "\n",
    "### Aufgabe 3:\n",
    "Verwende den String `satz = \"Python ist toll\"`. Extrahiere und gib die Wörter \"Python\", \"ist\" und \"toll\" separat mithilfe von Slicing aus. Verwende `print()` zur Ausgabe der Ergebnisse.\n",
    "\n",
    "### Aufgabe 4:\n",
    "Definiere einen String `wort = \"Supercalifragilisticexpialidocious\"`. Gib die Länge des Strings mit der Funktion `len()` aus.\n",
    "\n",
    "### Aufgabe 5:\n",
    "Verwende die Variablen `name = \"John\"` und `alter = 25`. Erstelle einen neuen String, der den Text \"John ist 25 Jahre alt.\" enthält, und gib ihn aus."
   ]
  },
  {
   "cell_type": "markdown",
   "id": "970f97f6-105e-42b3-bee0-c88b148b91aa",
   "metadata": {},
   "source": [
    "## Listen, Sets, Tuples\n",
    "### Aufgabe 1:\n",
    "Erstelle eine leere Liste `früchte = []`. Füge der Liste nacheinander die Elemente `\"Apfel\"`, `\"Banane\"` und `\"Kirsche\"` hinzu und gib die fertige Liste aus.\n",
    "\n",
    "### Aufgabe 2:\n",
    "Verwende die Liste `zahlen = [1, 2, 3, 4, 5]`. Entferne das Element `3` aus der Liste und gib die aktualisierte Liste aus.\n",
    "\n",
    "### Aufgabe 3:\n",
    "Definiere eine Liste `farben = [\"rot\", \"grün\", \"blau\", \"gelb\"]`. Greife auf das zweite Element zu und ändere es von `\"grün\"` zu `\"schwarz\"`. Gib die modifizierte Liste aus.\n",
    "\n",
    "### Aufgabe 4:\n",
    "Erstelle zwei Listen `liste1 = [1, 2, 3]` und `liste2 = [4, 5, 6]`. Kombiniere beide Listen zu einer neuen Liste `kombinierte_liste` und gib das Ergebnis aus.\n",
    "\n",
    "### Aufgabe 5:\n",
    "Wieso kann die `.append()`-Funktion nicht bei einem Tuple verwendet werden?"
   ]
  },
  {
   "cell_type": "markdown",
   "id": "d00d0f0c-3c26-4a1a-bd87-5ff389458e27",
   "metadata": {},
   "source": [
    "## Dicts\n",
    "\n",
    "### Aufgabe 1:\n",
    "Erstelle ein Dictionary `student = {\"Name\": \"Lisa\", \"Alter\": 22}`. Füge einen neuen Schlüssel `\"Studiengang\"` mit dem Wert `\"Informatik\"` hinzu und ändere den Wert des Schlüssels `\"Alter\"` auf `23`. Gib das aktualisierte Dictionary aus.\n",
    "\n",
    "### Aufgabe 2:\n",
    "Verwende das Dictionary `woerterbuch = {\"Haus\": \"house\", \"Baum\": \"tree\", \"Auto\": \"car\"}`. Überprüfe, ob das Wort `\"Auto\"` ein Schlüssel im Dictionary ist, und greife dann auf den zugehörigen Wert zu. Gib das Ergebnis aus."
   ]
  }
 ],
 "metadata": {
  "kernelspec": {
   "display_name": "Python 3 (ipykernel)",
   "language": "python",
   "name": "python3"
  },
  "language_info": {
   "codemirror_mode": {
    "name": "ipython",
    "version": 3
   },
   "file_extension": ".py",
   "mimetype": "text/x-python",
   "name": "python",
   "nbconvert_exporter": "python",
   "pygments_lexer": "ipython3",
   "version": "3.12.2"
  }
 },
 "nbformat": 4,
 "nbformat_minor": 5
}
