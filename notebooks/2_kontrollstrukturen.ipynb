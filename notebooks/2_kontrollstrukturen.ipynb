{
 "cells": [
  {
   "cell_type": "markdown",
   "id": "99708845-383b-4b22-b650-6eea03c783dc",
   "metadata": {},
   "source": [
    "# Kontrollstrukturen\n",
    "Autor: Leon Gjinovci  \n",
    "Kontrollstrukturen in Python steuern den Ablauf eines Programms, indem sie basierend auf Bedingungen entscheiden, welche Codeblöcke ausgeführt werden sollen. Zu den grundlegenden Kontrollstrukturen gehören bedingte Anweisungen wie `if`, `elif` und `else` sowie Schleifen wie `for` und `while`, die es ermöglichen, Code wiederholt auszuführen, solange bestimmte Bedingungen erfüllt sind."
   ]
  },
  {
   "cell_type": "markdown",
   "id": "367a32e9-f2cd-48c4-b5e5-dadacc9daca1",
   "metadata": {},
   "source": [
    "## If-Anweisungen\n",
    "\n",
    "Die `if`-Anweisung in Python ermöglicht es, Codeblöcke nur dann auszuführen, wenn eine bestimmte Bedingung erfüllt ist. Sie bildet die Grundlage für die Entscheidungsfindung im Programmfluss, indem sie prüft, ob eine Bedingung `True` ist. Optional können `elif` (else if) und `else` verwendet werden, um zusätzliche Bedingungen zu prüfen oder einen alternativen Codeblock auszuführen, wenn keine der vorherigen Bedingungen erfüllt ist.<br>\n",
    "Mit der `if`-Anweisung können folgende Operationen durchgeführt werden:\n",
    "\n",
    "+ Einfache Bedingung: Prüft eine einzelne Bedingung und führt einen Codeblock aus, wenn die Bedingung `True` ist.\n",
    "+ Mehrere Bedingungen: Verwende `elif`, um weitere Bedingungen zu prüfen, wenn die vorherige Bedingung `False` ist.\n",
    "+ Standardaktion: Verwende `else`, um einen Codeblock auszuführen, wenn keine der vorherigen Bedingungen erfüllt ist.\n",
    "+ Verschachtelte Bedingungen: Eine `if`-Anweisung kann innerhalb einer anderen `if`-Anweisung verwendet werden, um komplexere Logik abzubilden."
   ]
  },
  {
   "cell_type": "markdown",
   "id": "fbc49923-8245-4feb-a24f-fd6f0eb0b8ba",
   "metadata": {},
   "source": [
    "### Beispiele zu if-Operationen"
   ]
  },
  {
   "cell_type": "code",
   "execution_count": null,
   "id": "82cf65a2-1698-4ea2-8c76-9af8ebca735c",
   "metadata": {},
   "outputs": [
    {
     "name": "stdout",
     "output_type": "stream",
     "text": [
      "x ist größer als 5\n",
      "y ist gleich 20\n",
      "z ist größer als 10\n",
      "z ist auch kleiner als 20\n"
     ]
    }
   ],
   "source": [
    "x = 10\n",
    "\n",
    "# Einfache Bedingung\n",
    "if x > 5:\n",
    "    print(\"x ist größer als 5\")\n",
    "\n",
    "# Mehrere Bedingungen mit elif und else\n",
    "y = 20\n",
    "if y < 10:\n",
    "    print(\"y ist kleiner als 10\")\n",
    "elif y == 20:\n",
    "    print(\"y ist gleich 20\")\n",
    "else:\n",
    "    print(\"y ist größer als 10, aber nicht 20\")\n",
    "\n",
    "# Verschachtelte Bedingungen\n",
    "z = 15\n",
    "if z > 10:\n",
    "    print(\"z ist größer als 10\")\n",
    "    if z < 20:\n",
    "        print(\"z ist auch kleiner als 20\")\n"
   ]
  },
  {
   "cell_type": "markdown",
   "id": "cbce9020-034f-4762-9739-67cbaec24a93",
   "metadata": {},
   "source": [
    "## While-Schleifen\n",
    "\n",
    "Die `while`-Schleife in Python ermöglicht es, einen Codeblock wiederholt auszuführen, solange eine bestimmte Bedingung `True` ist. Sie ist besonders nützlich, wenn die Anzahl der Iterationen nicht im Voraus bekannt ist und die Schleife basierend auf einer dynamischen Bedingung gesteuert werden soll. Die Schleife endet, sobald die Bedingung `False` wird, wodurch sie flexibel auf sich ändernde Bedingungen reagieren kann.<br>\n",
    "Mit der `while`-Schleife können folgende Operationen durchgeführt werden:\n",
    "\n",
    "+ Endlosschleife: Eine Schleife, die endlos weiterläuft, solange die Bedingung immer `True` bleibt.\n",
    "+ Bedingte Schleifensteuerung: Die Schleife läuft, bis eine bestimmte Bedingung erfüllt ist.\n",
    "+ Schleifensteuerung mit `break`: Die Schleife kann vorzeitig mit `break` beendet werden, auch wenn die Bedingung noch `True` ist.\n",
    "+ Schleifensteuerung mit `continue`: Mit `continue` kann der aktuelle Schleifendurchlauf übersprungen werden, und die Schleife fährt mit der nächsten Iteration fort."
   ]
  },
  {
   "cell_type": "markdown",
   "id": "58c67697-cc7b-4aa5-944b-ffe641885a96",
   "metadata": {},
   "source": [
    "### Beispiele zu While-Operationen"
   ]
  },
  {
   "cell_type": "code",
   "execution_count": 4,
   "id": "85b7a5fe-efb7-4994-b0f5-b30e32f22595",
   "metadata": {},
   "outputs": [
    {
     "name": "stdout",
     "output_type": "stream",
     "text": [
      "i ist: 0\n",
      "i ist: 1\n",
      "i ist: 2\n",
      "i ist: 3\n",
      "i ist: 4\n",
      "j ist: 0\n",
      "j ist: 1\n",
      "j ist: 2\n",
      "j ist: 3\n",
      "k ist: 1\n",
      "k ist: 2\n",
      "k ist: 4\n",
      "k ist: 5\n"
     ]
    }
   ],
   "source": [
    "# Einfache while-Schleife\n",
    "i = 0\n",
    "while i < 5:\n",
    "    print(\"i ist:\", i)\n",
    "    i += 1  # Erhöht i um 1 in jeder Iteration\n",
    "\n",
    "# Endlosschleife mit break\n",
    "j = 0\n",
    "while True:\n",
    "    print(\"j ist:\", j)\n",
    "    if j >= 3:  # Beendet die Schleife, wenn j >= 3\n",
    "        break\n",
    "    j += 1\n",
    "\n",
    "# Schleifensteuerung mit continue\n",
    "k = 0\n",
    "while k < 5:\n",
    "    k += 1\n",
    "    if k == 3:\n",
    "        continue  # Überspringt den Rest des Schleifenblocks, wenn k == 3\n",
    "    print(\"k ist:\", k)\n"
   ]
  },
  {
   "cell_type": "markdown",
   "id": "4f6f800b-1e90-42ad-8692-5d3d18a6490d",
   "metadata": {},
   "source": [
    "## For-Schleifen\n",
    "\n",
    "Die `for`-Schleife in Python wird verwendet, um über eine Sequenz (wie eine Liste, ein Tuple, ein Set oder ein String) oder einen iterierbaren Generator zu iterieren. Sie ist besonders nützlich, wenn die Anzahl der Iterationen im Voraus bekannt ist oder wenn auf jedes Element einer Datenstruktur nacheinander zugegriffen werden soll. Die `for`-Schleife bietet eine kompakte Möglichkeit, wiederholte Aktionen durchzuführen und ist einfacher zu handhaben als die `while`-Schleife, wenn es um feste Iterationen geht.<br>\n",
    "Mit der `for`-Schleife können folgende Operationen durchgeführt werden:\n",
    "\n",
    "+ Iteration über Listen, Tuples, Sets und Strings: Iteriert nacheinander über jedes Element der Sequenz.\n",
    "+ Schleifensteuerung mit `break`: Beendet die Schleife vorzeitig, wenn eine bestimmte Bedingung erfüllt ist.\n",
    "+ Schleifensteuerung mit `continue`: Überspringt den aktuellen Durchlauf und fährt mit der nächsten Iteration fort.\n",
    "+ Iteration mit `range()`: Erzeugt eine Sequenz von Zahlen, um eine Schleife für eine bestimmte Anzahl von Durchläufen zu steuern.\n"
   ]
  },
  {
   "cell_type": "markdown",
   "id": "811f0983-12ab-4920-a29d-f87dcba568aa",
   "metadata": {},
   "source": [
    "### Beispiele für for-Operationen"
   ]
  },
  {
   "cell_type": "code",
   "execution_count": 5,
   "id": "bb833e2f-9c1e-4281-aea6-243a0c127039",
   "metadata": {},
   "outputs": [
    {
     "name": "stdout",
     "output_type": "stream",
     "text": [
      "Frucht: Apfel\n",
      "Frucht: Banane\n",
      "Frucht: Kirsche\n",
      "Buchstabe: P\n",
      "Buchstabe: y\n",
      "Buchstabe: t\n",
      "Buchstabe: h\n",
      "Buchstabe: o\n",
      "Buchstabe: n\n",
      "Zahl vor break: 1\n",
      "Zahl vor break: 2\n",
      "Zahl nach continue: 0\n",
      "Zahl nach continue: 1\n",
      "Zahl nach continue: 3\n",
      "Zahl nach continue: 4\n",
      "i ist: 3\n",
      "i ist: 4\n",
      "i ist: 5\n",
      "i ist: 6\n",
      "i ist: 7\n"
     ]
    }
   ],
   "source": [
    "# Iteration über eine Liste\n",
    "früchte = [\"Apfel\", \"Banane\", \"Kirsche\"]\n",
    "for frucht in früchte:\n",
    "    print(\"Frucht:\", frucht)\n",
    "\n",
    "# Iteration über einen String\n",
    "wort = \"Python\"\n",
    "for buchstabe in wort:\n",
    "    print(\"Buchstabe:\", buchstabe)\n",
    "\n",
    "# Schleifensteuerung mit break\n",
    "zahlen = [1, 2, 3, 4, 5]\n",
    "for zahl in zahlen:\n",
    "    if zahl == 3:\n",
    "        break  # Beendet die Schleife, wenn zahl gleich 3 ist\n",
    "    print(\"Zahl vor break:\", zahl)\n",
    "\n",
    "# Schleifensteuerung mit continue\n",
    "for zahl in range(5):\n",
    "    if zahl == 2:\n",
    "        continue  # Überspringt die aktuelle Iteration, wenn zahl gleich 2 ist\n",
    "    print(\"Zahl nach continue:\", zahl)\n",
    "\n",
    "# Iteration mit range()\n",
    "for i in range(3, 8):  # Iteriert von 3 bis 7 (8 ist nicht eingeschlossen)\n",
    "    print(\"i ist:\", i)\n"
   ]
  }
 ],
 "metadata": {
  "kernelspec": {
   "display_name": "Python 3 (ipykernel)",
   "language": "python",
   "name": "python3"
  },
  "language_info": {
   "codemirror_mode": {
    "name": "ipython",
    "version": 3
   },
   "file_extension": ".py",
   "mimetype": "text/x-python",
   "name": "python",
   "nbconvert_exporter": "python",
   "pygments_lexer": "ipython3",
   "version": "3.12.2"
  }
 },
 "nbformat": 4,
 "nbformat_minor": 5
}
