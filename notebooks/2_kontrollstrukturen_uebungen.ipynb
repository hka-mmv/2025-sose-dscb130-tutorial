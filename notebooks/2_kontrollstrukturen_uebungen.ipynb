{
 "cells": [
  {
   "cell_type": "markdown",
   "id": "59361a5b-eef2-4816-ab5b-21c249220001",
   "metadata": {},
   "source": [
    "# Übungen: Kontrollstrukturen\n",
    "Autor: Leon Gjinovci  "
   ]
  },
  {
   "cell_type": "markdown",
   "id": "0b0f5abf-dbc2-46b4-86c9-5ef2d8b1c881",
   "metadata": {},
   "source": [
    "## If-Elif-Else\n",
    "### Aufgabe 1:\n",
    "Schreibe ein Programm, das eine Variable `punktzahl` mit einem Wert zwischen 0 und 100 enthält. Verwende `if`, `elif` und `else`, um die folgende Notenklassifikation zu implementieren:\n",
    "- `punktzahl >= 90`: Ausgabe \"Note: Sehr gut\"\n",
    "- `punktzahl >= 75`: Ausgabe \"Note: Gut\"\n",
    "- `punktzahl >= 60`: Ausgabe \"Note: Befriedigend\"\n",
    "- `punktzahl >= 50`: Ausgabe \"Note: Ausreichend\"\n",
    "- `punktzahl < 50`: Ausgabe \"Note: Ungenügend\"\n",
    "### Aufgabe 2:\n",
    "Definiere eine Variable `temperatur` mit einem beliebigen ganzzahligen Wert. Verwende `if`, `elif` und `else`, um die folgenden Temperaturbedingungen zu überprüfen und auszugeben:\n",
    "- `temperatur > 30`: Ausgabe \"Es ist heiß.\"\n",
    "- `temperatur >= 20` und `temperatur <= 30`: Ausgabe \"Es ist warm.\"\n",
    "- `temperatur >= 10` und `temperatur < 20`: Ausgabe \"Es ist kühl.\"\n",
    "- `temperatur < 10`: Ausgabe \"Es ist kalt.\""
   ]
  },
  {
   "cell_type": "markdown",
   "id": "a94a5bf9-6d43-4ba3-8b58-3c56c9075425",
   "metadata": {},
   "source": [
    "## While\n",
    "### Aufgabe 1:\n",
    "Schreibe ein Programm, das eine Variable `start` mit dem Wert `10` enthält. Verwende eine `while`-Schleife, um einen Countdown von `start` bis `0` zu erstellen. Gib jede Zahl während des Countdowns aus und drucke \"Start!\" aus, wenn der Countdown `0` erreicht.\n",
    "### Aufgabe 2:\n",
    "Definiere eine Variable `summe` mit dem Wert `0`. Verwende eine `while`-Schleife, um Zahlen von `1` bis `n` zu summieren, wobei `n = 5` festgelegt ist. Die Schleife sollte jede Zahl zur `summe` addieren, bis `n` erreicht ist. Gib die resultierende Summe nach Abschluss der Schleife aus."
   ]
  },
  {
   "cell_type": "markdown",
   "id": "a3cb1ede-0e90-46c7-b759-8e27472e2b62",
   "metadata": {},
   "source": [
    "## For\n",
    "### Aufgabe 1:\n",
    "Erstelle eine Liste `zahlen = [1, 2, 3, 4, 5]`. Verwende eine `for`-Schleife, um über die Liste zu iterieren und jedes Element zu quadrieren (also mit sich selbst zu multiplizieren). Gib das quadratische Ergebnis jedes Elements aus.\n",
    "### Aufgabe 2:\n",
    "Definiere einen String `satz = \"Programmieren ist spannend\"`. Verwende eine `for`-Schleife, um die Anzahl der Vokale (a, e, i, o, u) im String zu zählen. Gib die Gesamtzahl der Vokale nach Abschluss der Schleife aus."
   ]
  }
 ],
 "metadata": {
  "kernelspec": {
   "display_name": "Python 3 (ipykernel)",
   "language": "python",
   "name": "python3"
  },
  "language_info": {
   "codemirror_mode": {
    "name": "ipython",
    "version": 3
   },
   "file_extension": ".py",
   "mimetype": "text/x-python",
   "name": "python",
   "nbconvert_exporter": "python",
   "pygments_lexer": "ipython3",
   "version": "3.12.2"
  }
 },
 "nbformat": 4,
 "nbformat_minor": 5
}
