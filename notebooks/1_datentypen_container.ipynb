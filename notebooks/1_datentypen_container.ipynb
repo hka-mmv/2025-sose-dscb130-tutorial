{
 "cells": [
  {
   "cell_type": "markdown",
   "id": "5aadab60-b379-41c5-b615-632f24062d62",
   "metadata": {},
   "source": [
    "# Datentypen und Container\n",
    "In Python dienen Datentypen und Container dazu, Daten strukturiert und effizient zu speichern und zu verarbeiten. Container wie Listen, Tupel, Sets und Dictionaries ermöglichen die flexible Organisation von Elementen, sei es in geordneter, unveränderlicher oder assoziativer Form. Diese Strukturen sind essenziell, um komplexe Datenmanipulationen durchzuführen und effizient auf Informationen zuzugreifen.\n",
    "## Dynamische Typisierung\n",
    "Python verwendet dynamische Typisierung, was bedeutet, dass Variablen nicht explizit mit einem Datentyp deklariert werden müssen. Der Datentyp einer Variablen wird automatisch zur Laufzeit basierend auf dem zugewiesenen Wert bestimmt. Dies ermöglicht flexibleres und schnelleres Programmieren, da der Programmierer sich nicht um die strikte Typdeklaration kümmern muss. Gleichzeitig kann diese Flexibilität auch zu Laufzeitfehlern führen, wenn Datentypen unerwartet wechseln oder inkompatible Typen kombiniert werden."
   ]
  },
  {
   "cell_type": "markdown",
   "id": "b6221533-253d-4e63-8771-f5e1cbfad7e2",
   "metadata": {},
   "source": [
    "## Einfache Datentypen"
   ]
  },
  {
   "cell_type": "markdown",
   "id": "28f7cd8e-54a8-47b8-a42b-c636e5544f6e",
   "metadata": {},
   "source": [
    "### Boolean\n",
    "Booleans in Python repräsentieren logische Werte und können nur zwei Zustände annehmen: `True` oder `False`. Sie werden oft verwendet, um Bedingungen zu prüfen und Kontrollstrukturen wie `if`-Anweisungen oder Schleifen zu steuern.\n",
    "Mit Booleans in Python können verschiedene logische Operationen durchgeführt werden:\n",
    "\n",
    "+ Logisches UND (`and`): Gibt `True` zurück, wenn beide Operanden `True` sind, andernfalls `False`.\n",
    "+ Logisches ODER (`or`): Gibt `True` zurück, wenn mindestens einer der Operanden `True` ist.\n",
    "+ Logisches NICHT (`not`): Gibt das Gegenteil des aktuellen Wertes zurück; `not True` wird `False` und `not False` wird `True`.\n",
    "+ Vergleichsoperationen: Gleichheit (`==`), Ungleichheit (`!=`), Größer als (`>`), Kleiner als (`<`), Größer oder gleich (`>=`), Kleiner oder gleich (`<=`) – Diese Operationen geben immer einen Boolean-Wert zurück (`True` oder `False`).\n",
    "\n",
    "Diese Operationen sind nützlich, um komplexe logische Ausdrücke zu erstellen und Bedingungen in Programmen zu steuern.<br>\n",
    "Bei der \"print\"-Funktion handelt es sich um eine Funktion der Standardbibliothek, diese wird zu einem späteren Zeitpunkt behandelt."
   ]
  },
  {
   "cell_type": "markdown",
   "id": "4da83a76-a38b-49c3-84ff-fc4e7f1bf589",
   "metadata": {},
   "source": [
    "#### Beispiele zu den Boolean-Operationen"
   ]
  },
  {
   "cell_type": "code",
   "execution_count": 11,
   "id": "4038d34f-944c-47b9-b87d-a1b340ef8c64",
   "metadata": {},
   "outputs": [
    {
     "name": "stdout",
     "output_type": "stream",
     "text": [
      "Logisches UND (wahr and falsch): False\n",
      "Logisches ODER (wahr or falsch): True\n",
      "Logisches NICHT (not wahr): False\n",
      "Gleichheit (wahr == falsch): False\n",
      "Ungleichheit (wahr != falsch): True\n"
     ]
    }
   ],
   "source": [
    "wahr = True\n",
    "falsch = False\n",
    "\n",
    "# Logisches UND (and)\n",
    "und_ergebnis = wahr and falsch  # Nur True, wenn beide wahr sind\n",
    "print(\"Logisches UND (wahr and falsch):\", und_ergebnis)\n",
    "\n",
    "# Logisches ODER (or)\n",
    "oder_ergebnis = wahr or falsch  # True, wenn mindestens einer wahr ist\n",
    "print(\"Logisches ODER (wahr or falsch):\", oder_ergebnis)\n",
    "\n",
    "# Logisches NICHT (not)\n",
    "nicht_ergebnis = not wahr  # Kehrt den Wert um\n",
    "print(\"Logisches NICHT (not wahr):\", nicht_ergebnis)\n",
    "\n",
    "# Vergleichsoperationen\n",
    "gleichheit = (wahr == falsch)   # Überprüft, ob beide gleich sind\n",
    "ungleichheit = (wahr != falsch) # Überprüft, ob beide unterschiedlich sind\n",
    "\n",
    "print(\"Gleichheit (wahr == falsch):\", gleichheit)\n",
    "print(\"Ungleichheit (wahr != falsch):\", ungleichheit)\n"
   ]
  },
  {
   "cell_type": "markdown",
   "id": "9eb88a84-6269-47a2-adc8-4f9e2534ce4b",
   "metadata": {},
   "source": [
    "### Zahlen\n",
    "Zahlen in Python werden durch die Datentypen Integer (ganze Zahlen) und Float (Gleitkommazahlen) repräsentiert, die für mathematische Berechnungen und numerische Operationen verwendet werden.\n",
    "Mit Zahlen in Python können verschiedene mathematische Operationen durchgeführt werden:\n",
    "\n",
    "+ Addition (`+`): Summiert zwei Zahlen.\n",
    "+ Subtraktion (`-`): Subtrahiert eine Zahl von einer anderen.\n",
    "+ Multiplikation (`*`): Multipliziert zwei Zahlen.\n",
    "+ Division (`/`): Teilt eine Zahl durch eine andere und gibt ein Gleitkommaergebnis zurück.\n",
    "+ Ganzzahlige Division (`//`): Teilt eine Zahl durch eine andere und gibt den ganzzahligen Teil des Ergebnisses zurück.\n",
    "+ Modulo (`%`): Berechnet den Rest einer Division.\n",
    "+ Exponentiation (`**`): Erhöht eine Zahl auf die Potenz einer anderen.\n",
    "\n",
    "Diese Operationen unterstützen sowohl ganze Zahlen (Integer) als auch Gleitkommazahlen (Float) und bieten eine flexible Handhabung numerischer Berechnungen."
   ]
  },
  {
   "cell_type": "code",
   "execution_count": 5,
   "id": "697836d8-7967-48b7-9236-6eeaa3936739",
   "metadata": {},
   "outputs": [
    {
     "data": {
      "text/plain": [
       "(10, int)"
      ]
     },
     "execution_count": 5,
     "metadata": {},
     "output_type": "execute_result"
    }
   ],
   "source": [
    "x = 3\n",
    "zahl = 7\n",
    "berechnung = x + zahl\n",
    "\n",
    "berechnung, type(berechnung) # Funktionen der Standardbibliothen und Juyper Lab werden zu einem späteren Zeitpunkt behandelt."
   ]
  },
  {
   "cell_type": "markdown",
   "id": "ec3f5495-fd91-41fe-8c04-fe7bb19848a3",
   "metadata": {},
   "source": [
    "#### Beispiele zu den Zahlen-Operationen"
   ]
  },
  {
   "cell_type": "code",
   "execution_count": 10,
   "id": "635d5886-b84d-4fdd-893b-1aa2884702a6",
   "metadata": {},
   "outputs": [
    {
     "name": "stdout",
     "output_type": "stream",
     "text": [
      "Addition: 13\n",
      "Subtraktion: 7\n",
      "Multiplikation: 30\n",
      "Division: 3.3333333333333335\n",
      "Ganzzahlige Division: 3\n",
      "Modulo: 1\n",
      "Exponentiation: 1000\n"
     ]
    }
   ],
   "source": [
    "a = 10\n",
    "b = 3\n",
    "\n",
    "# Addition\n",
    "addition = a + b       # 10 + 3 = 13\n",
    "print(\"Addition:\", addition)\n",
    "\n",
    "# Subtraktion\n",
    "subtraktion = a - b    # 10 - 3 = 7\n",
    "print(\"Subtraktion:\", subtraktion)\n",
    "\n",
    "# Multiplikation\n",
    "multiplikation = a * b # 10 * 3 = 30\n",
    "print(\"Multiplikation:\", multiplikation)\n",
    "\n",
    "# Division\n",
    "division = a / b       # 10 / 3 ≈ 3.333\n",
    "print(\"Division:\", division)\n",
    "\n",
    "# Ganzzahlige Division\n",
    "ganzzahl_div = a // b  # 10 // 3 = 3 | Automatische konvertierung in einen Float; als Basis dienen zwei Integer!\n",
    "print(\"Ganzzahlige Division:\", ganzzahl_div)\n",
    "\n",
    "# Modulo\n",
    "modulo = a % b         # 10 % 3 = 1\n",
    "print(\"Modulo:\", modulo)\n",
    "\n",
    "# Exponentiation\n",
    "potenz = a ** b        # 10 ** 3 = 1000\n",
    "print(\"Exponentiation:\", potenz)"
   ]
  },
  {
   "cell_type": "markdown",
   "id": "8c416c63-6669-443b-8300-0e7b6f8c6b9d",
   "metadata": {},
   "source": [
    "### Strings\n",
    "Strings in Python sind Zeichenketten, die zur Speicherung und Manipulation von Text verwendet werden. Sie können beliebige Zeichen enthalten, einschließlich Buchstaben, Zahlen und Sonderzeichen, und bieten eine Vielzahl von Methoden zur Bearbeitung und Analyse von Textinhalten.<br>\n",
    "Mit Strings in Python können verschiedene Operationen durchgeführt werden:\n",
    "\n",
    "+ Verkettung (`+`): Kombiniert zwei oder mehr Strings zu einem.\n",
    "+ Wiederholung (`*`): Wiederholt einen String eine bestimmte Anzahl von Malen.\n",
    "+ Zugriff per Index (`[]`): Greift auf einzelne Zeichen innerhalb eines Strings zu.\n",
    "+ Slicing (`[:]`): Extrahiert eine Teilzeichenkette aus einem String.\n",
    "+ In und Nicht in (`in`, `not in`): Überprüft, ob eine Teilzeichenkette in einem String enthalten ist.\n",
    "+ Methoden wie `lower()`, `upper()`, `strip()`, `split()`, `replace()`, `find()`, `join()` usw.: Bieten Funktionen zur Manipulation und Bearbeitung von Strings.\n",
    "\n",
    "Diese Operationen ermöglichen eine flexible Handhabung und Verarbeitung von Textdaten in Python.\n"
   ]
  },
  {
   "cell_type": "markdown",
   "id": "cf4e6672-2964-4050-8350-857e46946f69",
   "metadata": {},
   "source": [
    "#### Beispiele zu den String-Operationen"
   ]
  },
  {
   "cell_type": "code",
   "execution_count": 12,
   "id": "1a2b0494-89a1-4935-8396-dc608cfb001b",
   "metadata": {},
   "outputs": [
    {
     "name": "stdout",
     "output_type": "stream",
     "text": [
      "Verkettung: Python Programmierung\n",
      "Wiederholung: PythonPythonPython\n",
      "Erstes Zeichen: P\n",
      "Slicing: yth\n",
      "Großschreibung: PYTHON\n",
      "Zahl als String: 3\n"
     ]
    }
   ],
   "source": [
    "wort = \"Python\"\n",
    "zahl = 3\n",
    "\n",
    "# Verkettung\n",
    "verkettet = wort + \" Programmierung\"  # Kombiniert \"Python\" und \" Programmierung\"\n",
    "print(\"Verkettung:\", verkettet)\n",
    "\n",
    "# Wiederholung\n",
    "wiederholt = wort * 3  # Wiederholt \"Python\" dreimal\n",
    "print(\"Wiederholung:\", wiederholt)\n",
    "\n",
    "# Zugriff per Index\n",
    "erstes_zeichen = wort[0]  # Greift auf das erste Zeichen \"P\" zu\n",
    "print(\"Erstes Zeichen:\", erstes_zeichen)\n",
    "\n",
    "# Slicing\n",
    "teilzeichenkette = wort[1:4]  # Extrahiert die Zeichen von Index 1 bis 3 (einschließlich \"yth\")\n",
    "print(\"Slicing:\", teilzeichenkette)\n",
    "\n",
    "# Großschreibung\n",
    "grossbuchstaben = wort.upper()  # Wandelt \"Python\" in \"PYTHON\" um\n",
    "print(\"Großschreibung:\", grossbuchstaben)\n",
    "\n",
    "# Konvertierung einer Zahl in einen String\n",
    "zahl_als_string = str(zahl)  # Wandelt die Zahl 3 in den String \"3\" um\n",
    "print(\"Zahl als String:\", zahl_als_string)"
   ]
  },
  {
   "cell_type": "markdown",
   "id": "1dae0fbb-150f-4a48-b125-a54acdf31293",
   "metadata": {},
   "source": [
    "## Container"
   ]
  },
  {
   "cell_type": "markdown",
   "id": "9c4a3fc9-fbcd-4784-a306-6f56696e861a",
   "metadata": {},
   "source": [
    "### Listen\n",
    "Listen in Python sind dynamische, geordnete Sammlungen von Elementen, die beliebige Datentypen enthalten können. Sie ermöglichen das Hinzufügen, Entfernen und Ändern von Elementen und bieten vielseitige Methoden zur effizienten Datenmanipulation.<br>\n",
    "Mit Listen in Python können verschiedene Operationen durchgeführt werden:\n",
    "\n",
    "+ Hinzufügen von Elementen: Mit `append()` ein Element am Ende der Liste hinzufügen, oder mit `insert()` ein Element an einer bestimmten Position einfügen.\n",
    "+ Entfernen von Elementen: Mit `remove()` ein bestimmtes Element entfernen oder mit `pop()` ein Element an einer bestimmten Position entfernen.\n",
    "+ Zugriff per Index: Mit `[]` auf einzelne Elemente zugreifen oder den Wert ändern.\n",
    "+ Slicing: Mit `[:]` eine Teilmenge der Liste extrahieren.\n",
    "+ Konkatenation (`+`): Zwei oder mehr Listen zu einer zusammenfügen.\n",
    "+ Wiederholung (`*`): Eine Liste eine bestimmte Anzahl von Malen wiederholen.\n",
    "+ Länge (`len()`): Die Anzahl der Elemente in der Liste ermitteln.\n",
    "+ Überprüfung auf Vorhandensein (`in`, `not in`): Prüfen, ob ein Element in der Liste enthalten ist.\n",
    "\n",
    "Diese Operationen ermöglichen eine flexible und leistungsfähige Datenverwaltung in Python.\n"
   ]
  },
  {
   "cell_type": "markdown",
   "id": "a58bd527-dc66-473f-86c9-d82b1781bed9",
   "metadata": {},
   "source": [
    "### Beispiele zu den Listen-Operationen"
   ]
  },
  {
   "cell_type": "code",
   "execution_count": 14,
   "id": "f55b46f9-f842-4c08-a6f4-72190a37d88a",
   "metadata": {},
   "outputs": [
    {
     "name": "stdout",
     "output_type": "stream",
     "text": [
      "Nach append: [1, 2, 3, 4, 5]\n",
      "Nach insert: [1, 2, 10, 3, 4, 5]\n",
      "Nach remove: [1, 2, 10, 4, 5]\n",
      "Nach pop: [1, 10, 4, 5]\n",
      "Entferntes Element: 2\n",
      "Erstes Element: 1\n",
      "Nach Index-Zugriff: [1, 20, 4, 5]\n",
      "Teilmenge: [20, 4]\n",
      "Konkatenation: [1, 20, 4, 5, 6, 7, 8]\n",
      "Wiederholung: [1, 20, 4, 5, 1, 20, 4, 5]\n",
      "Länge der Liste: 4\n",
      "Ist 4 in der Liste?: True\n"
     ]
    }
   ],
   "source": [
    "# Liste definieren\n",
    "liste = [1, 2, 3, 4]\n",
    "\n",
    "# Hinzufügen von Elementen\n",
    "liste.append(5)         # Fügt 5 am Ende der Liste hinzu\n",
    "print(\"Nach append:\", liste)\n",
    "\n",
    "liste.insert(2, 10)     # Fügt 10 an Position 2 ein\n",
    "print(\"Nach insert:\", liste)\n",
    "\n",
    "# Entfernen von Elementen\n",
    "liste.remove(3)         # Entfernt das erste Vorkommen von 3\n",
    "print(\"Nach remove:\", liste)\n",
    "\n",
    "entferntes_element = liste.pop(1)  # Entfernt das Element an Index 1 und gibt es zurück\n",
    "print(\"Nach pop:\", liste)\n",
    "print(\"Entferntes Element:\", entferntes_element)\n",
    "\n",
    "# Zugriff per Index\n",
    "erstes_element = liste[0]   # Greift auf das erste Element (Index 0) zu\n",
    "print(\"Erstes Element:\", erstes_element)\n",
    "\n",
    "liste[1] = 20               # Ändert das Element an Index 1 auf 20\n",
    "print(\"Nach Index-Zugriff:\", liste)\n",
    "\n",
    "# Slicing\n",
    "teil_liste = liste[1:3]     # Extrahiert die Teilmenge von Index 1 bis 2\n",
    "print(\"Teilmenge:\", teil_liste)\n",
    "\n",
    "# Konkatenation\n",
    "andere_liste = [6, 7, 8]\n",
    "kombinierte_liste = liste + andere_liste  # Verbindet zwei Listen\n",
    "print(\"Konkatenation:\", kombinierte_liste)\n",
    "\n",
    "# Wiederholung\n",
    "wiederholte_liste = liste * 2  # Wiederholt die Liste zweimal\n",
    "print(\"Wiederholung:\", wiederholte_liste)\n",
    "\n",
    "# Länge der Liste\n",
    "laenge = len(liste)       # Gibt die Anzahl der Elemente in der Liste zurück\n",
    "print(\"Länge der Liste:\", laenge)\n",
    "\n",
    "# Überprüfung auf Vorhandensein\n",
    "ist_enthalten = 4 in liste       # Überprüft, ob 4 in der Liste enthalten ist | Gibt Boolean zurück\n",
    "print(\"Ist 4 in der Liste?:\", ist_enthalten)"
   ]
  },
  {
   "cell_type": "markdown",
   "id": "a6f855bf-32e2-4eab-b06d-fc2e412342a8",
   "metadata": {},
   "source": [
    "### Tuples\n",
    "Tuples in Python sind unveränderliche, geordnete Sammlungen von Elementen. Einmal erstellt, können ihre Elemente nicht mehr verändert werden. Sie eignen sich gut für die Speicherung von Daten, die sich nicht ändern sollen, und unterstützen viele der gleichen Operationen wie Listen, jedoch ohne Möglichkeit zur Modifikation.<br>\n",
    "Mit Tuples in Python können folgende Operationen durchgeführt werden:\n",
    "\n",
    "+ Zugriff per Index: Mit `[]` auf einzelne Elemente zugreifen.\n",
    "+ Slicing: Mit `[:]` eine Teilmenge eines Tuples extrahieren.\n",
    "+ Länge (`len()`): Die Anzahl der Elemente in einem Tuple ermitteln.\n",
    "+ Konkatenation (`+`): Zwei oder mehr Tuples zu einem zusammenfügen.\n",
    "+ Wiederholung (`*`): Ein Tuple eine bestimmte Anzahl von Malen wiederholen.\n",
    "+ Überprüfung auf Vorhandensein (`in`, `not in`): Prüfen, ob ein Element in einem Tuple enthalten ist.\n",
    "\n",
    "Da Tuples unveränderlich sind, unterstützen sie keine Operationen zum Hinzufügen oder Entfernen von Elementen.\n",
    "\n"
   ]
  },
  {
   "cell_type": "markdown",
   "id": "d7325d54-863f-4130-b8c4-d3f5c1fe544a",
   "metadata": {},
   "source": [
    "#### Beispiele zu Tuple-Operationen"
   ]
  },
  {
   "cell_type": "code",
   "execution_count": 16,
   "id": "55b22dee-c34a-4f90-9410-7ed7c9726346",
   "metadata": {},
   "outputs": [
    {
     "name": "stdout",
     "output_type": "stream",
     "text": [
      "Erstes Element des Tuples: 1\n",
      "Teilmenge des Tuples: (2, 3)\n",
      "Länge des Tuples: 4\n",
      "Konkatenation von Tuples: (1, 2, 3, 4, 5, 6)\n",
      "Wiederholung des Tuples: (1, 2, 3, 4, 1, 2, 3, 4)\n",
      "Ist 3 im Tuple enthalten?: True\n"
     ]
    }
   ],
   "source": [
    "# Beispiele zu Tuples\n",
    "tuple_beispiel = (1, 2, 3, 4)\n",
    "\n",
    "# Zugriff per Index\n",
    "erstes_element = tuple_beispiel[0]\n",
    "print(\"Erstes Element des Tuples:\", erstes_element)\n",
    "\n",
    "# Slicing\n",
    "teil_tuple = tuple_beispiel[1:3]\n",
    "print(\"Teilmenge des Tuples:\", teil_tuple)\n",
    "\n",
    "# Länge\n",
    "laenge_tuple = len(tuple_beispiel)\n",
    "print(\"Länge des Tuples:\", laenge_tuple)\n",
    "\n",
    "# Konkatenation\n",
    "neues_tuple = tuple_beispiel + (5, 6)\n",
    "print(\"Konkatenation von Tuples:\", neues_tuple)\n",
    "\n",
    "# Wiederholung\n",
    "wiederholtes_tuple = tuple_beispiel * 2\n",
    "print(\"Wiederholung des Tuples:\", wiederholtes_tuple)\n",
    "\n",
    "# Überprüfung auf Vorhandensein\n",
    "ist_enthalten = 3 in tuple_beispiel\n",
    "print(\"Ist 3 im Tuple enthalten?:\", ist_enthalten)"
   ]
  },
  {
   "cell_type": "markdown",
   "id": "d8ca858b-2408-4ab2-ad99-7dbbc5f6c325",
   "metadata": {},
   "source": [
    "### Sets\n",
    "\n",
    "Sets in Python sind ungeordnete Sammlungen von eindeutigen Elementen. Sie unterstützen mathematische Mengenoperationen wie Vereinigung, Schnittmenge und Differenz und sind ideal für Situationen, in denen Duplikate vermieden werden sollen oder schnelle Mitgliedschaftstests benötigt werden.<br>\n",
    "Mit Sets in Python können folgende Operationen durchgeführt werden:\n",
    "\n",
    "+ Hinzufügen von Elementen: Mit `add()` ein Element zu einem Set hinzufügen.\n",
    "+ Entfernen von Elementen: Mit `remove()` ein bestimmtes Element entfernen oder mit `discard()` ein Element entfernen, ohne einen Fehler zu werfen, wenn es nicht existiert.\n",
    "+ Vereinigung (`|`): Zwei Sets kombinieren.\n",
    "+ Schnittmenge (`&`): Gemeinsame Elemente zwischen zwei Sets ermitteln.\n",
    "+ Differenz (`-`): Elemente, die nur im ersten Set vorhanden sind, ermitteln.\n",
    "+ Symmetrische Differenz (`^`): Elemente ermitteln, die in einem der Sets, aber nicht in beiden enthalten sind.\n",
    "+ Überprüfung auf Vorhandensein (`in`, `not in`): Prüfen, ob ein Element in einem Set enthalten ist.\n",
    "\n",
    "Sets sind ungeordnet und erlauben keine doppelten Elemente, was sie ideal für mathematische und Mengenoperationen macht.\n"
   ]
  },
  {
   "cell_type": "markdown",
   "id": "2c2a8f8c-acba-4dbb-b7d3-3950e895544e",
   "metadata": {},
   "source": [
    "#### Beispiele zu Set-Operationen"
   ]
  },
  {
   "cell_type": "code",
   "execution_count": 17,
   "id": "16804c1a-d413-4438-aeba-98ee6c586750",
   "metadata": {},
   "outputs": [
    {
     "name": "stdout",
     "output_type": "stream",
     "text": [
      "Nach add: {1, 2, 3, 4}\n",
      "Nach remove: {1, 3, 4}\n",
      "Vereinigung von Sets: {1, 3, 4, 5}\n",
      "Schnittmenge von Sets: {3, 4}\n",
      "Differenz von Sets: {1}\n",
      "Symmetrische Differenz von Sets: {1, 5}\n",
      "Ist 1 im Set enthalten?: True\n"
     ]
    }
   ],
   "source": [
    "# Beispiele zu Sets\n",
    "set_beispiel = {1, 2, 3}\n",
    "\n",
    "# Hinzufügen von Elementen\n",
    "set_beispiel.add(4)\n",
    "print(\"Nach add:\", set_beispiel)\n",
    "\n",
    "# Entfernen von Elementen\n",
    "set_beispiel.remove(2)\n",
    "print(\"Nach remove:\", set_beispiel)\n",
    "\n",
    "# Vereinigung\n",
    "set2 = {3, 4, 5}\n",
    "vereinigung = set_beispiel | set2\n",
    "print(\"Vereinigung von Sets:\", vereinigung)\n",
    "\n",
    "# Schnittmenge\n",
    "schnittmenge = set_beispiel & set2\n",
    "print(\"Schnittmenge von Sets:\", schnittmenge)\n",
    "\n",
    "# Differenz\n",
    "differenz = set_beispiel - set2\n",
    "print(\"Differenz von Sets:\", differenz)\n",
    "\n",
    "# Symmetrische Differenz\n",
    "sym_diff = set_beispiel ^ set2\n",
    "print(\"Symmetrische Differenz von Sets:\", sym_diff)\n",
    "\n",
    "# Überprüfung auf Vorhandensein\n",
    "ist_enthalten = 1 in set_beispiel\n",
    "print(\"Ist 1 im Set enthalten?:\", ist_enthalten)\n"
   ]
  },
  {
   "cell_type": "markdown",
   "id": "d2c30c52-44eb-43f7-b02b-ed459959291b",
   "metadata": {},
   "source": [
    "### Dictionaries\n",
    "\n",
    "Dictionaries in Python sind ungeordnete Sammlungen von Schlüssel-Wert-Paaren. Sie ermöglichen einen schnellen Zugriff auf Werte basierend auf einzigartigen Schlüsseln und eignen sich ideal zur Speicherung von Daten, die logisch miteinander verknüpft sind, wie z. B. Namen und Telefonnummern oder Produktcodes und Preise.<br>\n",
    "Mit Dictionaries in Python können folgende Operationen durchgeführt werden:\n",
    "\n",
    "+ Hinzufügen und Aktualisieren von Elementen: Einem Schlüssel kann ein Wert zugewiesen oder der Wert eines bestehenden Schlüssels aktualisiert werden.\n",
    "+ Entfernen von Elementen: Mit `del` ein bestimmtes Schlüssel-Wert-Paar entfernen oder mit `pop()` ein Element entfernen und zurückgeben.\n",
    "+ Zugriff auf Werte: Mit `[]` oder `get()` auf den Wert zu einem bestimmten Schlüssel zugreifen.\n",
    "+ Überprüfung auf Vorhandensein von Schlüsseln (`in`, `not in`): Prüfen, ob ein Schlüssel im Dictionary vorhanden ist.\n",
    "+ Erhalten von Schlüsseln, Werten und Schlüssel-Wert-Paaren: Mit `keys()`, `values()` und `items()` eine Liste aller Schlüssel, Werte oder Paare erhalten.\n",
    "+ Länge (`len()`): Die Anzahl der Schlüssel-Wert-Paare im Dictionary ermitteln.\n",
    "\n",
    "Dictionaries sind besonders nützlich, wenn eine schnelle Zuordnung und ein schneller Zugriff auf Daten erforderlich sind.\n"
   ]
  },
  {
   "cell_type": "markdown",
   "id": "b826a91d-9f44-4744-a28c-867084de773e",
   "metadata": {},
   "source": [
    "#### Beispiele zu Dict-Operationen"
   ]
  },
  {
   "cell_type": "code",
   "execution_count": 19,
   "id": "50b6cb73-921c-4735-9a83-3a3de1413eb2",
   "metadata": {},
   "outputs": [
    {
     "name": "stdout",
     "output_type": "stream",
     "text": [
      "Nach Hinzufügen: {'Name': 'Max', 'Alter': 28, 'Stadt': 'Berlin', 'Beruf': 'Entwickler'}\n",
      "Nach Aktualisierung: {'Name': 'Max', 'Alter': 29, 'Stadt': 'Berlin', 'Beruf': 'Entwickler'}\n",
      "Nach Entfernen: {'Name': 'Max', 'Alter': 29, 'Beruf': 'Entwickler'}\n",
      "Nach pop: {'Alter': 29, 'Beruf': 'Entwickler'}\n",
      "Entferntes Element: Max\n",
      "Alter: 29\n",
      "Beruf: Entwickler\n",
      "Ist 'Alter' ein Schlüssel im Dictionary?: True\n",
      "Schlüssel: dict_keys(['Alter', 'Beruf'])\n",
      "Werte: dict_values([29, 'Entwickler'])\n",
      "Schlüssel-Wert-Paare: dict_items([('Alter', 29), ('Beruf', 'Entwickler')])\n",
      "Länge des Dictionaries: 2\n"
     ]
    }
   ],
   "source": [
    "# Beispiel zu Dictionaries\n",
    "dictionary_beispiel = {\"Name\": \"Max\", \n",
    "                       \"Alter\": 28, \n",
    "                       \"Stadt\": \"Berlin\"}\n",
    "\n",
    "# Hinzufügen und Aktualisieren von Elementen\n",
    "dictionary_beispiel[\"Beruf\"] = \"Entwickler\"  # Hinzufügen eines neuen Schlüssel-Wert-Paars\n",
    "print(\"Nach Hinzufügen:\", dictionary_beispiel)\n",
    "\n",
    "dictionary_beispiel[\"Alter\"] = 29  # Aktualisieren eines bestehenden Werts\n",
    "print(\"Nach Aktualisierung:\", dictionary_beispiel)\n",
    "\n",
    "# Entfernen von Elementen\n",
    "del dictionary_beispiel[\"Stadt\"]  # Entfernt das Schlüssel-Wert-Paar für \"Stadt\"\n",
    "print(\"Nach Entfernen:\", dictionary_beispiel)\n",
    "\n",
    "entferntes_element = dictionary_beispiel.pop(\"Name\")  # Entfernt und gibt den Wert zu \"Name\" zurück\n",
    "print(\"Nach pop:\", dictionary_beispiel)\n",
    "print(\"Entferntes Element:\", entferntes_element)\n",
    "\n",
    "# Zugriff auf Werte\n",
    "alter = dictionary_beispiel[\"Alter\"]  # Zugriff auf den Wert zu \"Alter\"\n",
    "print(\"Alter:\", alter)\n",
    "\n",
    "beruf = dictionary_beispiel.get(\"Beruf\")  # Zugriff auf den Wert zu \"Beruf\" mit get()\n",
    "print(\"Beruf:\", beruf)\n",
    "\n",
    "# Überprüfung auf Vorhandensein von Schlüsseln\n",
    "ist_enthalten = \"Alter\" in dictionary_beispiel  # Überprüft, ob \"Alter\" ein Schlüssel ist\n",
    "print(\"Ist 'Alter' ein Schlüssel im Dictionary?:\", ist_enthalten)\n",
    "\n",
    "# Erhalten von Schlüsseln, Werten und Schlüssel-Wert-Paaren\n",
    "schluessel = dictionary_beispiel.keys()\n",
    "werte = dictionary_beispiel.values()\n",
    "paare = dictionary_beispiel.items()\n",
    "\n",
    "print(\"Schlüssel:\", schluessel)\n",
    "print(\"Werte:\", werte)\n",
    "print(\"Schlüssel-Wert-Paare:\", paare)\n",
    "\n",
    "# Länge des Dictionaries\n",
    "laenge_dict = len(dictionary_beispiel)\n",
    "print(\"Länge des Dictionaries:\", laenge_dict)\n"
   ]
  },
  {
   "cell_type": "markdown",
   "id": "211e582c-ecdd-4bb8-80da-152624f20ff7",
   "metadata": {},
   "source": [
    "## Zusammenfassung\n",
    "Die wichtigsten Datentypen und Container in Python, die wir behandelt haben, umfassen:\n",
    "\n",
    "+ **Zahlen** (Integer, Float): Für numerische Berechnungen.\n",
    "+ **Booleans** (True, False): Für logische Operationen.\n",
    "+ **Strings**: Für die Speicherung und Manipulation von Text.\n",
    "+ **Listen**: Veränderbare, geordnete Sammlungen von Elementen.\n",
    "+ **Tuples**: Unveränderliche, geordnete Sammlungen von Elementen.\n",
    "+ **Sets**: Ungeordnete Sammlungen von eindeutigen Elementen.\n",
    "+ **Dictionaries**: Ungeordnete Sammlungen von Schlüssel-Wert-Paaren.\n",
    "\n",
    "Ein weiterer wichtiger, aber seltener verwendeter Container ist der **`frozenset`**, der wie ein Set ist, aber unveränderlich (immutable). `frozenset` unterstützt keine Hinzufügungs- oder Entfernungsoperationen nach seiner Erstellung, was ihn nützlich macht, wenn ein unveränderliches Set benötigt wird.\n",
    "\n",
    "Zusätzlich gibt es **komplexe Zahlen** (`complex`), die Real- und Imaginärteile zur Darstellung von komplexen mathematischen Konzepten enthalten. \n",
    "\n",
    "Diese weniger häufig verwendeten Datentypen und Container können in speziellen Anwendungsfällen nützlich sein, sind jedoch nicht so weit verbreitet wie die oben genannten Haupttypen.\n"
   ]
  }
 ],
 "metadata": {
  "kernelspec": {
   "display_name": "Python 3 (ipykernel)",
   "language": "python",
   "name": "python3"
  },
  "language_info": {
   "codemirror_mode": {
    "name": "ipython",
    "version": 3
   },
   "file_extension": ".py",
   "mimetype": "text/x-python",
   "name": "python",
   "nbconvert_exporter": "python",
   "pygments_lexer": "ipython3",
   "version": "3.12.2"
  }
 },
 "nbformat": 4,
 "nbformat_minor": 5
}
