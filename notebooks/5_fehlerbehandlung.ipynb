{
 "cells": [
  {
   "cell_type": "markdown",
   "id": "3e176bc1-4099-4a27-92e9-f4b6de544ec2",
   "metadata": {},
   "source": [
    "# Fehlerbehandlung\n",
    "Autor: Leon Gjinovci  \n",
    "Um einen Block auf Fehler zu überprüfen und um zu verhindern, das Fehler den Programmfluss stören, gibt es die \"try\" Funktion."
   ]
  },
  {
   "cell_type": "markdown",
   "id": "e93d9447-c8d7-43f1-8e9a-74c2ad39b0ac",
   "metadata": {},
   "source": [
    "## Beispiel einer Fehlerbehandlung\n",
    "```python\n",
    "try:\n",
    "    print(x)\n",
    "except:\n",
    "    print(\"Ein Fehler ist aufgetreten\")    \n",
    "```\n",
    "\n",
    "Dieses Beispiel würde einen Fehler auswerfen, da \"x\" niemals definiert wurde. Es wird bei einem fehlgeschlagenen \"try\"-Block, der zugehörige \"exception\"-Block ausgeführt.\n",
    "\n",
    "## Fehler Typen\n",
    "In Python gibt es unterschiedlche Fehlertypen. Diese werden bei einem auftretenden Fehler im Ausgabefenster gezeigt:"
   ]
  },
  {
   "cell_type": "code",
   "execution_count": 1,
   "id": "f8e0f96d-2d86-4f8a-a488-66e123ff7c04",
   "metadata": {},
   "outputs": [
    {
     "ename": "NameError",
     "evalue": "name 'x' is not defined",
     "output_type": "error",
     "traceback": [
      "\u001b[1;31m---------------------------------------------------------------------------\u001b[0m",
      "\u001b[1;31mNameError\u001b[0m                                 Traceback (most recent call last)",
      "Cell \u001b[1;32mIn[1], line 1\u001b[0m\n\u001b[1;32m----> 1\u001b[0m \u001b[38;5;28mprint\u001b[39m(\u001b[43mx\u001b[49m)\n",
      "\u001b[1;31mNameError\u001b[0m: name 'x' is not defined"
     ]
    }
   ],
   "source": [
    "print(x)"
   ]
  },
  {
   "cell_type": "markdown",
   "id": "84870bb8-9dd3-4175-b056-5289bdc46ce8",
   "metadata": {},
   "source": [
    "Der Auftretende Fehler:\n",
    "\n",
    "> NameError                                 Traceback (most recent call last)<br>\n",
    "> Cell In[1], line 1 <br>\n",
    "> ----> 1 print(x)<br>\n",
    "> \n",
    "> NameError: name 'x' is not defined\n",
    "\n",
    "Gibt uns einen \"NameError\" zurück. Weitere Fehlerarten (Built-In Exceptions) sind in der Dokumentation zu finden: [Python Docs](https://docs.python.org/3/library/exceptions.html)  \n",
    "\n",
    "## Mehrere Fehler Abfragen\n",
    "Das \"except\" Statement kann unendliche wiederholt werden, bis der richtige Fehler auftritt:\n",
    "```python\n",
    "try:\n",
    "    print(x)\n",
    "except NameError:\n",
    "    print(\"Ein NameError ist aufgetreten\")\n",
    "except:\n",
    "    print(\"Ein anderer Fehler ist aufgetreten\")\n",
    "```\n",
    "\n",
    "Eine Kombination mit \"else\" ist ebenfalls möglich:\n",
    "```python\n",
    "try:\n",
    "    print(x)\n",
    "except NameError:\n",
    "    print(\"Ein NameError ist aufgetreten\")\n",
    "else:\n",
    "    print(\"Ein anderer Fehler ist aufgetreten\")\n",
    "```\n",
    "\n",
    "## Ausführen ohne Fehler\n",
    "Der \"finally\"-Block wird ausgeführt, unabhängig davon ob ein Fehler (Exception) entstanden ist:\n",
    "```python\n",
    "try:\n",
    "    print(x)\n",
    "except:\n",
    "    print(\"Ein Fehler ist aufgetreten\")\n",
    "finally:\n",
    "    print(\"Der Block ist zuende\")\n",
    "```\n",
    "In diesem Fall wird der \"finally\"-Block ausgeführt, nach dem except Block."
   ]
  },
  {
   "cell_type": "markdown",
   "id": "6020508e-39ba-463d-98d7-f22cf3a97795",
   "metadata": {},
   "source": [
    "## Auswerfen von eigenen Fehlern\n",
    "Sollen bei nicht vorhergesehenen Eingaben Fehlermeldungen ausgegeben werden, so passiert dies über den \"raise\"-Block. \n",
    "```python\n",
    "x = -1\n",
    "\n",
    "if x < 0:\n",
    "  raise Exception(\"Keine Zahlen unter Null\")\n",
    "```\n",
    "\n",
    "Es wird ein Fehler ausgeworfen"
   ]
  },
  {
   "cell_type": "code",
   "execution_count": 2,
   "id": "6ae6f4da-532f-4ebc-a105-4b1c33ba2afd",
   "metadata": {},
   "outputs": [
    {
     "ename": "Exception",
     "evalue": "Keine Zahlen unter Null",
     "output_type": "error",
     "traceback": [
      "\u001b[1;31m---------------------------------------------------------------------------\u001b[0m",
      "\u001b[1;31mException\u001b[0m                                 Traceback (most recent call last)",
      "Cell \u001b[1;32mIn[2], line 4\u001b[0m\n\u001b[0;32m      1\u001b[0m x \u001b[38;5;241m=\u001b[39m \u001b[38;5;241m-\u001b[39m\u001b[38;5;241m1\u001b[39m\n\u001b[0;32m      3\u001b[0m \u001b[38;5;28;01mif\u001b[39;00m x \u001b[38;5;241m<\u001b[39m \u001b[38;5;241m0\u001b[39m:\n\u001b[1;32m----> 4\u001b[0m   \u001b[38;5;28;01mraise\u001b[39;00m \u001b[38;5;167;01mException\u001b[39;00m(\u001b[38;5;124m\"\u001b[39m\u001b[38;5;124mKeine Zahlen unter Null\u001b[39m\u001b[38;5;124m\"\u001b[39m)\n",
      "\u001b[1;31mException\u001b[0m: Keine Zahlen unter Null"
     ]
    }
   ],
   "source": [
    "x = -1\n",
    "\n",
    "if x < 0:\n",
    "  raise Exception(\"Keine Zahlen unter Null\")"
   ]
  },
  {
   "cell_type": "markdown",
   "id": "a5344e19-e7de-4393-8ace-a88477cfa4d0",
   "metadata": {},
   "source": [
    "## Beispiel zu \"raise\"\n",
    "```python\n",
    "x = \"hello\"\n",
    "\n",
    "if not type(x) is int:\n",
    "  raise TypeError(\"Nur 'int' erlaubt!\")\n",
    "```\n",
    "\n",
    "In diesem Beispiel kann der Nutzer nur Integer an das \"if\"-Statement weitergeben."
   ]
  }
 ],
 "metadata": {
  "kernelspec": {
   "display_name": "Python 3 (ipykernel)",
   "language": "python",
   "name": "python3"
  },
  "language_info": {
   "codemirror_mode": {
    "name": "ipython",
    "version": 3
   },
   "file_extension": ".py",
   "mimetype": "text/x-python",
   "name": "python",
   "nbconvert_exporter": "python",
   "pygments_lexer": "ipython3",
   "version": "3.12.2"
  }
 },
 "nbformat": 4,
 "nbformat_minor": 5
}
