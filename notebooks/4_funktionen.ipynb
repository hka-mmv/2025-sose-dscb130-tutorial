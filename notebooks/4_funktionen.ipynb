{
 "cells": [
  {
   "cell_type": "markdown",
   "id": "9e6ba49f-9bf2-4606-8ce8-df812c55130a",
   "metadata": {},
   "source": [
    "# Funktionen\n",
    "Autor: Leon Gjinovci  \n",
    "Funktionen in Python sind wiederverwendbare Codeblöcke, die eine bestimmte Aufgabe ausführen. Sie ermöglichen eine strukturierte und übersichtliche Programmierung, indem sie den Code in kleinere, modularere Teile aufteilen. Funktionen werden definiert, indem man ihnen einen Namen gibt und optional Parameter übergibt. Sie können Daten verarbeiten und ein Ergebnis zurückgeben, wodurch sie eine flexible Möglichkeit bieten, komplexe Programme effizient zu gestalten.\n",
    "Eine Funktion wird in Python mit dem Schlüsselwort `def` gefolgt von einem Funktionsnamen und runden Klammern definiert. Innerhalb der Klammern können Parameter angegeben werden, die als Eingaben für die Funktion dienen. Der Codeblock, der die Anweisungen der Funktion enthält, ist eingerückt. Eine Funktion kann optional ein Ergebnis mit dem `return`-Schlüsselwort zurückgeben."
   ]
  },
  {
   "cell_type": "markdown",
   "id": "628664b7-1262-49e2-8b93-73dd04532b42",
   "metadata": {},
   "source": [
    "## Beispiel einer einfachen Funktion"
   ]
  },
  {
   "cell_type": "code",
   "execution_count": 1,
   "id": "cbf807ca-0dc6-47ba-8ff9-08b83f7a7a08",
   "metadata": {},
   "outputs": [
    {
     "name": "stdout",
     "output_type": "stream",
     "text": [
      "Hallo, Welt!\n"
     ]
    }
   ],
   "source": [
    "# Funktionsdefinition, Stichwort: \"def\"\n",
    "def begruessung():\n",
    "    print(\"Hallo, Welt!\")\n",
    "\n",
    "# Funktionsaufruf\n",
    "begruessung()"
   ]
  },
  {
   "cell_type": "code",
   "execution_count": 2,
   "id": "a4662356-60c0-477f-9881-bb11fd746a65",
   "metadata": {},
   "outputs": [
    {
     "name": "stdout",
     "output_type": "stream",
     "text": [
      "Das Ergebnis ist: 12\n"
     ]
    }
   ],
   "source": [
    "# Funktionsdefinition, die zwei Werte erwartet \"()\" in Klammern angegeben\n",
    "def addiere(zahl1, zahl2):\n",
    "    summe = zahl1 + zahl2\n",
    "    return summe\n",
    "\n",
    "# Funktionsaufruf mit Argumenten\n",
    "ergebnis = addiere(5, 7)\n",
    "print(\"Das Ergebnis ist:\", ergebnis)"
   ]
  },
  {
   "cell_type": "markdown",
   "id": "b3b98794-fda6-4979-95ae-6277d6522590",
   "metadata": {},
   "source": [
    "## Docstrings\n",
    "\n",
    "Docstrings in Python sind spezielle Strings, die zur Dokumentation von Funktionen, Klassen und Modulen verwendet werden. Sie werden direkt unter der Definition einer Funktion, Methode, Klasse oder eines Moduls platziert und beschreiben deren Zweck, Parameter, Rückgabewerte und Ausnahmen. Docstrings helfen, den Code besser verständlich zu machen und sind ein wichtiger Bestandteil einer guten Programmierpraxis.\n",
    "\n",
    "Docstrings werden in dreifachen Anführungszeichen (`\"\"\" ... \"\"\"` oder `''' ... '''`) geschrieben und können mit der eingebauten `help()`-Funktion oder dem Attribut `__doc__` einer Funktion oder Klasse abgerufen werden.\n"
   ]
  },
  {
   "cell_type": "code",
   "execution_count": 3,
   "id": "9f2fb1e8-e9cb-4706-bc6f-d9324fbbbc8b",
   "metadata": {},
   "outputs": [
    {
     "name": "stdout",
     "output_type": "stream",
     "text": [
      "Help on function addiere in module __main__:\n",
      "\n",
      "addiere(zahl1, zahl2)\n",
      "    Addiert zwei Zahlen und gibt die Summe zurück.\n",
      "\n",
      "    Parameter:\n",
      "    zahl1 (int oder float): Die erste Zahl.\n",
      "    zahl2 (int oder float): Die zweite Zahl.\n",
      "\n",
      "    Rückgabewert:\n",
      "    int oder float: Die Summe der beiden Zahlen.\n",
      "\n"
     ]
    }
   ],
   "source": [
    "def addiere(zahl1, zahl2):\n",
    "    \"\"\"\n",
    "    Addiert zwei Zahlen und gibt die Summe zurück.\n",
    "\n",
    "    Parameter:\n",
    "    zahl1 (int oder float): Die erste Zahl.\n",
    "    zahl2 (int oder float): Die zweite Zahl.\n",
    "\n",
    "    Rückgabewert:\n",
    "    int oder float: Die Summe der beiden Zahlen.\n",
    "    \"\"\"\n",
    "    return zahl1 + zahl2\n",
    "\n",
    "# Verwendung der help() Funktion\n",
    "help(addiere)"
   ]
  },
  {
   "cell_type": "markdown",
   "id": "fd3df395-e4ef-4022-baa8-64419966a4b2",
   "metadata": {},
   "source": [
    "## Standardargumente und Keyword-Argumente\n",
    "\n",
    "Python-Funktionen können Standardwerte für ihre Parameter festlegen. Diese Standardargumente werden verwendet, wenn beim Funktionsaufruf keine Werte für die entsprechenden Parameter angegeben werden. Dies macht Funktionen flexibler und reduziert die Anzahl der Argumente, die beim Aufruf einer Funktion angegeben werden müssen.\n",
    "\n",
    "### Beispiel für Standardargumente"
   ]
  },
  {
   "cell_type": "code",
   "execution_count": 4,
   "id": "21d61b8b-bf65-4f80-b5a3-29c145149c47",
   "metadata": {},
   "outputs": [
    {
     "name": "stdout",
     "output_type": "stream",
     "text": [
      "Hallo, Anna!\n",
      "Guten Morgen, Max!\n"
     ]
    }
   ],
   "source": [
    "def begruessung(name, gruss=\"Hallo\"):\n",
    "    print(f\"{gruss}, {name}!\")\n",
    "\n",
    "# Funktionsaufrufe\n",
    "begruessung(\"Anna\")  # Ausgabe: Hallo, Anna!\n",
    "begruessung(\"Max\", \"Guten Morgen\")  # Ausgabe: Guten Morgen, Max!"
   ]
  },
  {
   "cell_type": "markdown",
   "id": "283521f6-bae7-4cc9-b1ac-03b10dfe71f3",
   "metadata": {},
   "source": [
    "## Keyword Argumente\n",
    "Keyword-Argumente ermöglichen es, Funktionen mit benannten Argumenten aufzurufen, sodass die Reihenfolge der Argumente beliebig sein kann. Dies erhöht die Lesbarkeit und Flexibilität beim Aufruf von Funktionen.\n"
   ]
  },
  {
   "cell_type": "code",
   "execution_count": 5,
   "id": "47ec36fc-cb9b-4a2a-8bc9-e18f903b91da",
   "metadata": {},
   "outputs": [
    {
     "name": "stdout",
     "output_type": "stream",
     "text": [
      "15\n",
      "5\n",
      "30\n"
     ]
    }
   ],
   "source": [
    "def rechne(a, b, operation=\"addieren\"):\n",
    "    if operation == \"addieren\":\n",
    "        return a + b\n",
    "    elif operation == \"subtrahieren\":\n",
    "        return a - b\n",
    "\n",
    "# Funktionsaufrufe mit Keyword-Argumenten\n",
    "print(rechne(10, 5))  # Ausgabe: 15 (Standardoperation: addieren)\n",
    "print(rechne(10, 5, operation=\"subtrahieren\"))  # Ausgabe: 5\n",
    "print(rechne(b=10, a=20))  # Ausgabe: 30 (Parameterreihenfolge vertauscht)\n"
   ]
  },
  {
   "cell_type": "markdown",
   "id": "56dba35f-2f8b-4c1f-a0cb-e0dbb483ee3a",
   "metadata": {},
   "source": [
    "## *args und **kwargs\n",
    "*args und **kwargs sind spezielle Syntax in Python, die es Funktionen ermöglichen, eine variable Anzahl von Argumenten zu akzeptieren.\n",
    "\n",
    "+ *args wird verwendet, um eine beliebige Anzahl von nicht-benannten Argumenten zu akzeptieren. Diese Argumente werden als Tuple an die Funktion übergeben.\n",
    "+ **kwargs wird verwendet, um eine beliebige Anzahl von benannten Argumenten zu akzeptieren. Diese Argumente werden als Dictionary an die Funktion übergeben."
   ]
  },
  {
   "cell_type": "code",
   "execution_count": 6,
   "id": "672482ca-ee4e-4313-8e71-a9c2ba6e556c",
   "metadata": {},
   "outputs": [
    {
     "name": "stdout",
     "output_type": "stream",
     "text": [
      "args: (1, 2, 3)\n",
      "kwargs: {'name': 'Anna', 'alter': 28}\n"
     ]
    }
   ],
   "source": [
    "def beispiel(*args, **kwargs):\n",
    "    print(\"args:\", args)\n",
    "    print(\"kwargs:\", kwargs)\n",
    "\n",
    "# Funktionsaufruf mit *args und **kwargs\n",
    "beispiel(1, 2, 3, name=\"Anna\", alter=28)\n",
    "\n",
    "# Ausgabe:\n",
    "# args: (1, 2, 3)\n",
    "# kwargs: {'name': 'Anna', 'alter': 28}\n"
   ]
  },
  {
   "cell_type": "markdown",
   "id": "99838827-7a75-439e-847a-3faf7c4bdf1c",
   "metadata": {},
   "source": [
    "## Verschachtelte Funktionen\n",
    "Verschachtelte Funktionen sind Funktionen, die innerhalb anderer Funktionen definiert werden. Diese inneren Funktionen sind nur innerhalb ihrer äußeren Funktion zugänglich. Verschachtelte Funktionen können verwendet werden, um den Code besser zu strukturieren oder um geschützte Hilfsfunktionen zu erstellen."
   ]
  },
  {
   "cell_type": "code",
   "execution_count": 7,
   "id": "772fbdc1-9601-49b7-87c8-b41072fbd187",
   "metadata": {},
   "outputs": [
    {
     "name": "stdout",
     "output_type": "stream",
     "text": [
      "Dies ist die äußere Funktion.\n",
      "Dies ist die innere Funktion.\n"
     ]
    }
   ],
   "source": [
    "def aussen():\n",
    "    print(\"Dies ist die äußere Funktion.\")\n",
    "\n",
    "    def innen():\n",
    "        print(\"Dies ist die innere Funktion.\")\n",
    "\n",
    "    innen()  # Aufruf der inneren Funktion innerhalb der äußeren Funktion\n",
    "\n",
    "# Aufruf der äußeren Funktion\n",
    "aussen()\n",
    "\n",
    "# Ausgabe:\n",
    "# Dies ist die äußere Funktion.\n",
    "# Dies ist die innere Funktion.\n"
   ]
  },
  {
   "cell_type": "markdown",
   "id": "b40e4254-3ad1-4680-aa4b-e509576d6607",
   "metadata": {},
   "source": [
    "## Rekursive Funktionen\n",
    "Rekursive Funktionen sind Funktionen, die sich selbst aufrufen, um ein Problem in kleinere, einfachere Teilprobleme zu zerlegen. Rekursion ist besonders nützlich für Probleme, die sich natürlich in ähnliche Unterprobleme aufteilen, wie z.B. das Berechnen der Fakultät einer Zahl oder das Durchlaufen rekursiver Datenstrukturen."
   ]
  },
  {
   "cell_type": "code",
   "execution_count": 9,
   "id": "978ba5b6-cae1-4525-99dc-e7d57c726aa8",
   "metadata": {},
   "outputs": [
    {
     "name": "stdout",
     "output_type": "stream",
     "text": [
      "120\n"
     ]
    }
   ],
   "source": [
    "def fakultaet(n):\n",
    "    if n == 0:\n",
    "        return 1\n",
    "    else:\n",
    "        return n * fakultaet(n - 1)\n",
    "\n",
    "# Funktionsaufruf\n",
    "print(fakultaet(5))  # Ausgabe: 120\n",
    "\n",
    "# In diesem Beispiel berechnet die Funktion fakultaet die Fakultät einer Zahl n, indem sie sich selbst mit dem Wert n - 1 aufruft, bis die Basisbedingung n == 0 erreicht ist."
   ]
  }
 ],
 "metadata": {
  "kernelspec": {
   "display_name": "Python 3 (ipykernel)",
   "language": "python",
   "name": "python3"
  },
  "language_info": {
   "codemirror_mode": {
    "name": "ipython",
    "version": 3
   },
   "file_extension": ".py",
   "mimetype": "text/x-python",
   "name": "python",
   "nbconvert_exporter": "python",
   "pygments_lexer": "ipython3",
   "version": "3.12.2"
  }
 },
 "nbformat": 4,
 "nbformat_minor": 5
}
