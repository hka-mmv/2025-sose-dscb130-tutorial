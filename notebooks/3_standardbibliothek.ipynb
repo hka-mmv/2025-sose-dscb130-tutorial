{
 "cells": [
  {
   "cell_type": "markdown",
   "id": "c837580a-3321-4029-8cec-6173e89e8337",
   "metadata": {},
   "source": [
    "# Die Standardbibliothek\n",
    "Autor: Leon Gjinovci  \n",
    "Die Python-Standardbibliothek ist eine umfangreiche Sammlung von Modulen und Paketen, die Python mitliefert und die direkt nach der Installation verfügbar sind. Sie bietet eine Vielzahl von Funktionen und Tools zur Bewältigung gängiger Programmieraufgaben, wie z. B. Dateiverarbeitung, mathematische Berechnungen, Datenmanipulation und Netzwerkkommunikation, ohne dass zusätzliche externe Bibliotheken installiert werden müssen."
   ]
  },
  {
   "cell_type": "markdown",
   "id": "8561a193-d9d7-4902-aa58-db067991b4b5",
   "metadata": {},
   "source": [
    "## Häufig genutzte Funktionen\n",
    "Einige der am häufigsten verwendeten Funktionen sind:\n",
    "\n",
    "+ `print()`: Gibt die übergebenen Argumente auf der Konsole aus.\n",
    "+ `len()`: Gibt die Länge einer Sequenz wie einer Liste, eines Strings oder eines Dictionaries zurück.\n",
    "+ `range()`: Erzeugt eine Sequenz von Zahlen, die oft in Schleifen verwendet wird.\n",
    "+ `type()`: Gibt den Typ eines Objekts zurück.\n",
    "+ `input()`: Liest eine Eingabe von der Konsole (wird in diesem Kurs später behandelt).\n",
    "+ `sum()`: Berechnet die Summe der Elemente in einer Sequenz.\n",
    "+ `min()` und `max()`: Gibt das kleinste bzw. größte Element in einer Sequenz zurück.\n",
    "+ `sorted()`: Gibt eine sortierte Kopie einer Sequenz zurück.\n",
    "+ `open()`: Öffnet eine Datei und gibt ein Dateihandles zurück, das zum Lesen oder Schreiben verwendet werden kann.\n",
    "+ `enumerate()`: Gibt einen Zähler und das Element in einer Sequenz zurück, nützlich für Schleifen.\n",
    "\n",
    "Weitere Funktionen der umfassenden stdbib findet man in der Python Dokumentation."
   ]
  },
  {
   "cell_type": "markdown",
   "id": "470ea2d5-5947-4da8-b622-9b096f88ff45",
   "metadata": {},
   "source": [
    "## Beispiele zu häufig genutzten Funktionen"
   ]
  },
  {
   "cell_type": "code",
   "execution_count": null,
   "id": "328f7794-9242-41d5-939c-e20b466b5122",
   "metadata": {},
   "outputs": [],
   "source": [
    "# Einfache Ausgabe\n",
    "print(\"Hallo, Welt!\")\n",
    "\n",
    "# Mehrere Argumente\n",
    "print(\"Python\", \"ist\", \"toll!\")\n",
    "\n",
    "# F-Strings zur Formatierung\n",
    "name = \"Anna\"\n",
    "alter = 28\n",
    "print(f\"{name} ist {alter} Jahre alt.\")"
   ]
  },
  {
   "cell_type": "code",
   "execution_count": null,
   "id": "3c52246c-67c4-46ae-9bac-7c2a85153051",
   "metadata": {},
   "outputs": [],
   "source": [
    "# Länge eines Strings\n",
    "wort = \"Python\"\n",
    "print(\"Länge des Wortes:\", len(wort))\n",
    "\n",
    "# Länge einer Liste\n",
    "liste = [1, 2, 3, 4, 5]\n",
    "print(\"Länge der Liste:\", len(liste))\n"
   ]
  },
  {
   "cell_type": "code",
   "execution_count": null,
   "id": "5669dce4-6190-48ec-8d00-460a9a7f457b",
   "metadata": {},
   "outputs": [],
   "source": [
    "# Erzeugt eine Sequenz von 0 bis 4\n",
    "for i in range(5):\n",
    "    print(i)\n",
    "\n",
    "# Erzeugt eine Sequenz von 3 bis 7\n",
    "for i in range(3, 8):\n",
    "    print(i)\n"
   ]
  },
  {
   "cell_type": "code",
   "execution_count": null,
   "id": "13569ad6-665b-498d-b7a5-049e7ee750a4",
   "metadata": {},
   "outputs": [],
   "source": [
    "# Typ eines Integers\n",
    "zahl = 42\n",
    "print(\"Typ der Zahl:\", type(zahl))\n",
    "\n",
    "# Typ eines Strings\n",
    "text = \"Python\"\n",
    "print(\"Typ des Textes:\", type(text))\n"
   ]
  },
  {
   "cell_type": "code",
   "execution_count": null,
   "id": "4d76e1c1-a1d1-4d17-976c-bfa235c5431f",
   "metadata": {},
   "outputs": [],
   "source": [
    "# Summe einer Liste von Zahlen\n",
    "zahlen = [1, 2, 3, 4, 5]\n",
    "print(\"Summe der Zahlen:\", sum(zahlen))\n"
   ]
  },
  {
   "cell_type": "code",
   "execution_count": null,
   "id": "67908e02-b5ca-4345-9102-cb0645eb13d2",
   "metadata": {},
   "outputs": [],
   "source": [
    "# Kleinstes und größtes Element einer Liste\n",
    "werte = [10, 20, 5, 40, 15]\n",
    "print(\"Kleinster Wert:\", min(werte))\n",
    "print(\"Größter Wert:\", max(werte))\n"
   ]
  },
  {
   "cell_type": "code",
   "execution_count": null,
   "id": "e1d006ba-124a-4a41-a91c-2e89a1f62fc2",
   "metadata": {},
   "outputs": [],
   "source": [
    "# Sortieren einer Liste\n",
    "unsortiert = [5, 3, 1, 4, 2]\n",
    "sortiert = sorted(unsortiert)\n",
    "print(\"Sortierte Liste:\", sortiert)\n",
    "\n",
    "# Sortieren eines Strings nach Alphabet\n",
    "wort = \"python\"\n",
    "print(\"Sortiertes Wort:\", sorted(wort))\n"
   ]
  },
  {
   "cell_type": "code",
   "execution_count": null,
   "id": "c1b87822-6051-4d8e-a756-123359b0ad12",
   "metadata": {},
   "outputs": [],
   "source": [
    "# Öffnen und Lesen einer Datei\n",
    "with open('beispiel.txt', 'r') as datei:\n",
    "    inhalt = datei.read()\n",
    "    print(\"Dateiinhalt:\", inhalt)\n",
    "\n",
    "# Zu einem späteren Zeitpunkt detaillierter"
   ]
  },
  {
   "cell_type": "code",
   "execution_count": null,
   "id": "0a4bd23c-aa5a-4c2f-9eae-5f380934b61e",
   "metadata": {},
   "outputs": [],
   "source": [
    "# Aufzählung von Elementen in einer Liste\n",
    "früchte = [\"Apfel\", \"Banane\", \"Kirsche\"]\n",
    "for index, frucht in enumerate(früchte):\n",
    "    print(f\"Index: {index}, Frucht: {frucht}\")\n"
   ]
  },
  {
   "cell_type": "code",
   "execution_count": null,
   "id": "54759a47-3c3f-4044-bead-a4f6c8113c74",
   "metadata": {},
   "outputs": [],
   "source": [
    "# Eingabe von der Konsole (in einer interaktiven Umgebung ausführen)\n",
    "name = input(\"Wie heißt du?\")\n",
    "print(f\"Hallo, {name}!\")"
   ]
  }
 ],
 "metadata": {
  "kernelspec": {
   "display_name": "Python 3 (ipykernel)",
   "language": "python",
   "name": "python3"
  },
  "language_info": {
   "codemirror_mode": {
    "name": "ipython",
    "version": 3
   },
   "file_extension": ".py",
   "mimetype": "text/x-python",
   "name": "python",
   "nbconvert_exporter": "python",
   "pygments_lexer": "ipython3",
   "version": "3.12.2"
  }
 },
 "nbformat": 4,
 "nbformat_minor": 5
}
